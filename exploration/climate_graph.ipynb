{
 "cells": [
  {
   "cell_type": "code",
   "execution_count": 70,
   "id": "f7721775",
   "metadata": {},
   "outputs": [
    {
     "data": {
      "text/plain": [
       "'1.4.1'"
      ]
     },
     "execution_count": 70,
     "metadata": {},
     "output_type": "execute_result"
    }
   ],
   "source": [
    "pd.__version__"
   ]
  },
  {
   "cell_type": "markdown",
   "id": "cf2066e7",
   "metadata": {},
   "source": [
    "# Creating the Reddit Network of Climate Discussion Contributors \n",
    "\n",
    "Using the pre-trained Climate Change Sentiment classifier on submissions and comments from Redittors, we model a network of Redittors being pro, neutral or anti to Climate Change.\n"
   ]
  },
  {
   "cell_type": "code",
   "execution_count": 1,
   "id": "dceab9cd",
   "metadata": {},
   "outputs": [],
   "source": [
    "import os\n",
    "from pathlib import Path\n",
    "import time, datetime\n",
    "\n",
    "import pickle\n",
    "from collections import Counter\n",
    "\n",
    "import numpy as np\n",
    "import pandas as pd\n",
    "from tqdm.notebook import tqdm\n",
    "tqdm.pandas()\n",
    "\n",
    "from nltk import word_tokenize, PorterStemmer\n",
    "from nltk.corpus import stopwords\n",
    "\n",
    "from sklearn.feature_extraction.text import CountVectorizer, TfidfTransformer\n",
    "from sklearn.pipeline import Pipeline\n",
    "\n",
    "from psaw import PushshiftAPI\n",
    "import networkx as nx\n",
    "import netwulf as nw\n",
    "\n",
    "import matplotlib.pyplot as plt\n",
    "import seaborn as sns\n",
    "import plotly.express as px\n",
    "\n",
    "import warnings\n",
    "warnings.simplefilter(\"ignore\", UserWarning)"
   ]
  },
  {
   "cell_type": "markdown",
   "id": "25f59c6c",
   "metadata": {},
   "source": [
    "## 1) Load Reddit data\n",
    "\n",
    "Initially, the data extracted from Reddit is loaded."
   ]
  },
  {
   "cell_type": "code",
   "execution_count": 2,
   "id": "8986b2b4",
   "metadata": {},
   "outputs": [],
   "source": [
    "# Data directory\n",
    "DATA_DIR = Path(os.getcwd()).parent / 'data'"
   ]
  },
  {
   "cell_type": "code",
   "execution_count": 7,
   "id": "5eb3af1e",
   "metadata": {},
   "outputs": [
    {
     "name": "stdout",
     "output_type": "stream",
     "text": [
      "Took 124.70616698265076 seconds to load dataframe...\n"
     ]
    }
   ],
   "source": [
    "start = time.time()\n",
    "\n",
    "# load data\n",
    "comments = pd.read_json(DATA_DIR / 'reddit_comments90k.json.bz2')\n",
    "submissions = pd.read_json(DATA_DIR / 'reddit_submissions.json.bz2')\n",
    "\n",
    "end = time.time()\n",
    "print(f\"Took {end-start} seconds to load dataframe...\")"
   ]
  },
  {
   "cell_type": "code",
   "execution_count": 8,
   "id": "a5641383",
   "metadata": {},
   "outputs": [
    {
     "data": {
      "text/plain": [
       "(572747, 11)"
      ]
     },
     "execution_count": 8,
     "metadata": {},
     "output_type": "execute_result"
    }
   ],
   "source": [
    "submissions.shape"
   ]
  },
  {
   "cell_type": "code",
   "execution_count": 9,
   "id": "a50e49cc",
   "metadata": {},
   "outputs": [
    {
     "data": {
      "text/plain": [
       "(1020327, 12)"
      ]
     },
     "execution_count": 9,
     "metadata": {},
     "output_type": "execute_result"
    }
   ],
   "source": [
    "comments.shape"
   ]
  },
  {
   "cell_type": "markdown",
   "id": "606cdf81",
   "metadata": {},
   "source": [
    "## 2) Link comment authors to submission authors"
   ]
  },
  {
   "cell_type": "code",
   "execution_count": 10,
   "id": "497e0a5c",
   "metadata": {},
   "outputs": [],
   "source": [
    "# create dictionaries\n",
    "comment_authors = dict(zip(comments.id, comments.author))\n",
    "parent = dict(zip(comments.id, comments.parent_id))\n",
    "submission_authors = dict(zip(submissions.id, submissions.author))"
   ]
  },
  {
   "cell_type": "code",
   "execution_count": 11,
   "id": "726f60c2",
   "metadata": {},
   "outputs": [],
   "source": [
    "def parent_author(comment_id, comment_authors=comment_authors, parent=parent, submission_authors=submission_authors):\n",
    "    '''Links the comment id to the author of its parent.\n",
    "    \n",
    "    input: comment_id\n",
    "    returns: author'''\n",
    "    \n",
    "    parent_id = parent[comment_id]\n",
    "    \n",
    "    try: # try to look for the parent_id key\n",
    "        if parent_id[:3] == 't1_':\n",
    "            return comment_authors[parent_id[3:]]\n",
    "        if parent_id[:3] == 't3_':\n",
    "            return submission_authors[parent_id[3:]]    \n",
    "    except KeyError: # if parent_id was not extracted in comments or submissions\n",
    "        return np.nan"
   ]
  },
  {
   "cell_type": "code",
   "execution_count": 12,
   "id": "fe111ea5",
   "metadata": {},
   "outputs": [
    {
     "data": {
      "application/vnd.jupyter.widget-view+json": {
       "model_id": "183a1501fe7a46b3b690cdf3c4c59bfe",
       "version_major": 2,
       "version_minor": 0
      },
      "text/plain": [
       "  0%|          | 0/1020327 [00:00<?, ?it/s]"
      ]
     },
     "metadata": {},
     "output_type": "display_data"
    }
   ],
   "source": [
    "comments['parent_author'] = comments['id'].progress_apply(lambda x: parent_author(x))"
   ]
  },
  {
   "cell_type": "code",
   "execution_count": 13,
   "id": "2b3d6706",
   "metadata": {},
   "outputs": [
    {
     "name": "stdout",
     "output_type": "stream",
     "text": [
      "Number of IDs that could not be extracted: 14208/1020327 = 0.0139\n"
     ]
    }
   ],
   "source": [
    "print(f\"Number of IDs that could not be extracted: {comments['parent_author'].isnull().sum()}/{comments['parent_author'].__len__()} = {comments['parent_author'].isnull().sum() / comments['parent_author'].__len__() :.4f}\")"
   ]
  },
  {
   "cell_type": "code",
   "execution_count": 14,
   "id": "caf1b921",
   "metadata": {},
   "outputs": [
    {
     "data": {
      "text/plain": [
       "(1006119, 12)"
      ]
     },
     "execution_count": 14,
     "metadata": {},
     "output_type": "execute_result"
    }
   ],
   "source": [
    "# remove NaN parent authors\n",
    "comments = comments[-comments.parent_author.isnull()].reset_index(drop=True)\n",
    "\n",
    "# size of data\n",
    "comments.shape"
   ]
  },
  {
   "cell_type": "markdown",
   "id": "fe37f0dd",
   "metadata": {},
   "source": [
    "## 3) Filter the Reddit comments and submissions"
   ]
  },
  {
   "cell_type": "code",
   "execution_count": 15,
   "id": "979e002f",
   "metadata": {},
   "outputs": [],
   "source": [
    "# join title and selftext to text attribute in submissions\n",
    "submissions['text'] = submissions.title + \" \" + submissions.selftext"
   ]
  },
  {
   "cell_type": "code",
   "execution_count": 16,
   "id": "17c1b138",
   "metadata": {},
   "outputs": [],
   "source": [
    "# Remove NaN values for awarders by setting it to 0 or empty list\n",
    "submissions['all_awardings'] = submissions['all_awardings'].fillna(\"\").apply(list)\n",
    "submissions['awarders'] = submissions['awarders'].fillna(\"\").apply(list)\n",
    "submissions['total_awards_received'] = submissions['total_awards_received'].fillna(0)\n",
    "\n",
    "comments['all_awardings'] = comments['all_awardings'].fillna(\"\").apply(list)\n",
    "comments['total_awards_received'] = comments['total_awards_received'].fillna(0)"
   ]
  },
  {
   "cell_type": "code",
   "execution_count": 17,
   "id": "02dfe98e",
   "metadata": {},
   "outputs": [
    {
     "name": "stdout",
     "output_type": "stream",
     "text": [
      "Number of deleted users: 93413\n"
     ]
    },
    {
     "data": {
      "text/plain": [
       "(912706, 12)"
      ]
     },
     "execution_count": 17,
     "metadata": {},
     "output_type": "execute_result"
    }
   ],
   "source": [
    "# filter comments and remove rows with deleted users\n",
    "filtered_comments = comments\n",
    "\n",
    "deleted_users_idx = np.logical_or(filtered_comments.author == '[deleted]', filtered_comments.parent_author == '[deleted]')\n",
    "filtered_comments = filtered_comments[-deleted_users_idx]\n",
    "print(f\"Number of deleted users: {deleted_users_idx.sum()}\")\n",
    "\n",
    "# update index\n",
    "filtered_comments.reset_index(drop=True, inplace=True)\n",
    "filtered_comments.shape"
   ]
  },
  {
   "cell_type": "code",
   "execution_count": 18,
   "id": "4585709f",
   "metadata": {},
   "outputs": [
    {
     "name": "stdout",
     "output_type": "stream",
     "text": [
      "Number of deleted users: 15406\n"
     ]
    },
    {
     "data": {
      "text/plain": [
       "(557341, 12)"
      ]
     },
     "execution_count": 18,
     "metadata": {},
     "output_type": "execute_result"
    }
   ],
   "source": [
    "# filter submissions and remove rows with deleted users\n",
    "filtered_submissions = submissions\n",
    "\n",
    "deleted_users_idx = filtered_submissions.author == '[deleted]'\n",
    "filtered_submissions = filtered_submissions[-deleted_users_idx]\n",
    "print(f\"Number of deleted users: {deleted_users_idx.sum()}\")\n",
    "\n",
    "# update index\n",
    "filtered_submissions.reset_index(drop=True, inplace=True)\n",
    "filtered_submissions.shape"
   ]
  },
  {
   "cell_type": "markdown",
   "id": "ec5e6e12",
   "metadata": {},
   "source": [
    "## 4) Handle author metadata "
   ]
  },
  {
   "cell_type": "code",
   "execution_count": 17,
   "id": "74bc6f06",
   "metadata": {},
   "outputs": [],
   "source": [
    "def get_metadata(df, reddit_type='comment'):\n",
    "    \n",
    "    author_df = pd.DataFrame()\n",
    "    \n",
    "    groups = df.groupby(by='author')\n",
    "\n",
    "    author_df['text'] = groups.text.progress_apply(lambda x: list(x))\n",
    "    author_df['all_awardings'] = groups.all_awardings.progress_apply(lambda x: np.concatenate([*x]))\n",
    "    author_df['total_awards_received'] = groups.total_awards_received.sum()\n",
    "    author_df['total_awards_received'] = groups.total_awards_received.sum()\n",
    "    author_df['score'] = groups.score.sum()\n",
    "    author_df[f'first_{reddit_type}'] = groups.date.progress_apply(lambda x: x.sort_values(ascending=True).iloc[0])\n",
    "    author_df[f'last_{reddit_type}'] = groups.date.progress_apply(lambda x: x.sort_values(ascending=True).iloc[-1])\n",
    "    author_df[f'num_{reddit_type}s'] = groups.progress_apply(lambda x: x.__len__())\n",
    "    \n",
    "    if reddit_type == 'comment':\n",
    "        author_df['controversiality'] = groups.controversiality.sum()\n",
    "    \n",
    "    return author_df"
   ]
  },
  {
   "cell_type": "code",
   "execution_count": 20,
   "id": "f68fe633",
   "metadata": {},
   "outputs": [
    {
     "name": "stdout",
     "output_type": "stream",
     "text": [
      "Extracting metadata for comments...\n"
     ]
    },
    {
     "data": {
      "application/vnd.jupyter.widget-view+json": {
       "model_id": "f421c4c6d8dc4b71b2abf63887c5c102",
       "version_major": 2,
       "version_minor": 0
      },
      "text/plain": [
       "  0%|          | 0/349021 [00:00<?, ?it/s]"
      ]
     },
     "metadata": {},
     "output_type": "display_data"
    },
    {
     "data": {
      "application/vnd.jupyter.widget-view+json": {
       "model_id": "d733022a5cec4618936f7bb56d8d33cd",
       "version_major": 2,
       "version_minor": 0
      },
      "text/plain": [
       "  0%|          | 0/349021 [00:00<?, ?it/s]"
      ]
     },
     "metadata": {},
     "output_type": "display_data"
    },
    {
     "data": {
      "application/vnd.jupyter.widget-view+json": {
       "model_id": "ec9243051da248a1abd2d398963c21a8",
       "version_major": 2,
       "version_minor": 0
      },
      "text/plain": [
       "  0%|          | 0/349021 [00:00<?, ?it/s]"
      ]
     },
     "metadata": {},
     "output_type": "display_data"
    },
    {
     "data": {
      "application/vnd.jupyter.widget-view+json": {
       "model_id": "5d1d729ee07641d09eb01e4a6704056d",
       "version_major": 2,
       "version_minor": 0
      },
      "text/plain": [
       "  0%|          | 0/349021 [00:00<?, ?it/s]"
      ]
     },
     "metadata": {},
     "output_type": "display_data"
    },
    {
     "data": {
      "application/vnd.jupyter.widget-view+json": {
       "model_id": "b048eab76fa8449e9791eda2c6c00192",
       "version_major": 2,
       "version_minor": 0
      },
      "text/plain": [
       "  0%|          | 0/349021 [00:00<?, ?it/s]"
      ]
     },
     "metadata": {},
     "output_type": "display_data"
    },
    {
     "name": "stdout",
     "output_type": "stream",
     "text": [
      "\n",
      "Extracting metadata for submissions...\n"
     ]
    },
    {
     "data": {
      "application/vnd.jupyter.widget-view+json": {
       "model_id": "1f60ae863ae445b1bc3d47435b3eab4f",
       "version_major": 2,
       "version_minor": 0
      },
      "text/plain": [
       "  0%|          | 0/170667 [00:00<?, ?it/s]"
      ]
     },
     "metadata": {},
     "output_type": "display_data"
    },
    {
     "data": {
      "application/vnd.jupyter.widget-view+json": {
       "model_id": "d2945b0ab51c4856a660ea3c204fd25a",
       "version_major": 2,
       "version_minor": 0
      },
      "text/plain": [
       "  0%|          | 0/170667 [00:00<?, ?it/s]"
      ]
     },
     "metadata": {},
     "output_type": "display_data"
    },
    {
     "data": {
      "application/vnd.jupyter.widget-view+json": {
       "model_id": "4b0fa3c2ed32495e9090a81ff592771f",
       "version_major": 2,
       "version_minor": 0
      },
      "text/plain": [
       "  0%|          | 0/170667 [00:00<?, ?it/s]"
      ]
     },
     "metadata": {},
     "output_type": "display_data"
    },
    {
     "data": {
      "application/vnd.jupyter.widget-view+json": {
       "model_id": "479fc01b89d1433f909875ecccd50fcd",
       "version_major": 2,
       "version_minor": 0
      },
      "text/plain": [
       "  0%|          | 0/170667 [00:00<?, ?it/s]"
      ]
     },
     "metadata": {},
     "output_type": "display_data"
    },
    {
     "data": {
      "application/vnd.jupyter.widget-view+json": {
       "model_id": "0eb86cab66c84ae79143096f6ac2885f",
       "version_major": 2,
       "version_minor": 0
      },
      "text/plain": [
       "  0%|          | 0/170667 [00:00<?, ?it/s]"
      ]
     },
     "metadata": {},
     "output_type": "display_data"
    }
   ],
   "source": [
    "#extract metadata\n",
    "print(\"Extracting metadata for comments...\")\n",
    "author_comment = get_metadata(filtered_comments, reddit_type='comment')\n",
    "\n",
    "print(\"\\nExtracting metadata for submissions...\")\n",
    "author_submission = get_metadata(filtered_submissions, reddit_type='submission')"
   ]
  },
  {
   "cell_type": "code",
   "execution_count": 21,
   "id": "a3842948",
   "metadata": {},
   "outputs": [],
   "source": [
    "author_joined = author_comment.join(author_submission, on='author', lsuffix='_c', rsuffix='_s')"
   ]
  },
  {
   "cell_type": "code",
   "execution_count": 60,
   "id": "db6a3838",
   "metadata": {},
   "outputs": [
    {
     "name": "stdout",
     "output_type": "stream",
     "text": [
      "Running...\n",
      "Successfully combined dataframe!\n"
     ]
    },
    {
     "data": {
      "application/vnd.jupyter.widget-view+json": {
       "model_id": "a40dd9ddad9c4555a94504fe71d65e05",
       "version_major": 2,
       "version_minor": 0
      },
      "text/plain": [
       "  0%|          | 0/349021 [00:00<?, ?it/s]"
      ]
     },
     "metadata": {},
     "output_type": "display_data"
    },
    {
     "data": {
      "text/html": [
       "<div>\n",
       "<style scoped>\n",
       "    .dataframe tbody tr th:only-of-type {\n",
       "        vertical-align: middle;\n",
       "    }\n",
       "\n",
       "    .dataframe tbody tr th {\n",
       "        vertical-align: top;\n",
       "    }\n",
       "\n",
       "    .dataframe thead th {\n",
       "        text-align: right;\n",
       "    }\n",
       "</style>\n",
       "<table border=\"1\" class=\"dataframe\">\n",
       "  <thead>\n",
       "    <tr style=\"text-align: right;\">\n",
       "      <th></th>\n",
       "      <th>text</th>\n",
       "      <th>all_awardings</th>\n",
       "      <th>total_awards_received</th>\n",
       "      <th>score</th>\n",
       "      <th>first_comment</th>\n",
       "      <th>last_comment</th>\n",
       "      <th>first_submission</th>\n",
       "      <th>last_submission</th>\n",
       "      <th>num_comments</th>\n",
       "      <th>num_submissions</th>\n",
       "      <th>comment_controversiality</th>\n",
       "    </tr>\n",
       "    <tr>\n",
       "      <th>author</th>\n",
       "      <th></th>\n",
       "      <th></th>\n",
       "      <th></th>\n",
       "      <th></th>\n",
       "      <th></th>\n",
       "      <th></th>\n",
       "      <th></th>\n",
       "      <th></th>\n",
       "      <th></th>\n",
       "      <th></th>\n",
       "      <th></th>\n",
       "    </tr>\n",
       "  </thead>\n",
       "  <tbody>\n",
       "    <tr>\n",
       "      <th>A_Clever_Ape</th>\n",
       "      <td>That's a good article. The Cubans are doing go...</td>\n",
       "      <td>[]</td>\n",
       "      <td>0.0</td>\n",
       "      <td>1.0</td>\n",
       "      <td>2022-01-29</td>\n",
       "      <td>2022-01-29</td>\n",
       "      <td>NaN</td>\n",
       "      <td>NaN</td>\n",
       "      <td>1</td>\n",
       "      <td>NaN</td>\n",
       "      <td>0.0</td>\n",
       "    </tr>\n",
       "    <tr>\n",
       "      <th>wysiwyg1999</th>\n",
       "      <td>When you have a political parasite telling oth...</td>\n",
       "      <td>[]</td>\n",
       "      <td>0.0</td>\n",
       "      <td>2.0</td>\n",
       "      <td>2018-11-26</td>\n",
       "      <td>2018-11-26</td>\n",
       "      <td>NaN</td>\n",
       "      <td>NaN</td>\n",
       "      <td>1</td>\n",
       "      <td>NaN</td>\n",
       "      <td>0.0</td>\n",
       "    </tr>\n",
       "    <tr>\n",
       "      <th>FilthySnek</th>\n",
       "      <td>yall be like \"yeah climate change is bad and w...</td>\n",
       "      <td>[]</td>\n",
       "      <td>0.0</td>\n",
       "      <td>39.0</td>\n",
       "      <td>2019-07-17</td>\n",
       "      <td>2019-07-19</td>\n",
       "      <td>2019-07-17</td>\n",
       "      <td>2019-08-24</td>\n",
       "      <td>3</td>\n",
       "      <td>3.0</td>\n",
       "      <td>0.0</td>\n",
       "    </tr>\n",
       "    <tr>\n",
       "      <th>timpanzeez</th>\n",
       "      <td>Be a member of a group that publishes literatu...</td>\n",
       "      <td>[]</td>\n",
       "      <td>0.0</td>\n",
       "      <td>1.0</td>\n",
       "      <td>2021-12-15</td>\n",
       "      <td>2021-12-15</td>\n",
       "      <td>NaN</td>\n",
       "      <td>NaN</td>\n",
       "      <td>1</td>\n",
       "      <td>NaN</td>\n",
       "      <td>0.0</td>\n",
       "    </tr>\n",
       "    <tr>\n",
       "      <th>rapscallionrodent</th>\n",
       "      <td>From what I've read, there's no doubt that the...</td>\n",
       "      <td>[]</td>\n",
       "      <td>0.0</td>\n",
       "      <td>1.0</td>\n",
       "      <td>2020-03-31</td>\n",
       "      <td>2020-03-31</td>\n",
       "      <td>NaN</td>\n",
       "      <td>NaN</td>\n",
       "      <td>1</td>\n",
       "      <td>NaN</td>\n",
       "      <td>0.0</td>\n",
       "    </tr>\n",
       "    <tr>\n",
       "      <th>bigsuzao</th>\n",
       "      <td>0x5084047075dAF25e51F7eC90533D76226B8061A9</td>\n",
       "      <td>[]</td>\n",
       "      <td>0.0</td>\n",
       "      <td>1.0</td>\n",
       "      <td>2021-10-21</td>\n",
       "      <td>2021-10-21</td>\n",
       "      <td>NaN</td>\n",
       "      <td>NaN</td>\n",
       "      <td>1</td>\n",
       "      <td>NaN</td>\n",
       "      <td>0.0</td>\n",
       "    </tr>\n",
       "    <tr>\n",
       "      <th>usually_witty</th>\n",
       "      <td>I listened to the audio book so my memory is a...</td>\n",
       "      <td>[]</td>\n",
       "      <td>0.0</td>\n",
       "      <td>2.0</td>\n",
       "      <td>2021-09-11</td>\n",
       "      <td>2021-09-11</td>\n",
       "      <td>NaN</td>\n",
       "      <td>NaN</td>\n",
       "      <td>1</td>\n",
       "      <td>NaN</td>\n",
       "      <td>0.0</td>\n",
       "    </tr>\n",
       "    <tr>\n",
       "      <th>jamieooo</th>\n",
       "      <td>I want to say climate change too. \\n\\nThe impa...</td>\n",
       "      <td>[]</td>\n",
       "      <td>0.0</td>\n",
       "      <td>1.0</td>\n",
       "      <td>2021-12-27</td>\n",
       "      <td>2021-12-27</td>\n",
       "      <td>NaN</td>\n",
       "      <td>NaN</td>\n",
       "      <td>1</td>\n",
       "      <td>NaN</td>\n",
       "      <td>0.0</td>\n",
       "    </tr>\n",
       "    <tr>\n",
       "      <th>SavageNorth</th>\n",
       "      <td>Probably because they’re American, it’s far le...</td>\n",
       "      <td>[]</td>\n",
       "      <td>0.0</td>\n",
       "      <td>2.0</td>\n",
       "      <td>2019-11-28</td>\n",
       "      <td>2019-12-14</td>\n",
       "      <td>NaN</td>\n",
       "      <td>NaN</td>\n",
       "      <td>2</td>\n",
       "      <td>NaN</td>\n",
       "      <td>0.0</td>\n",
       "    </tr>\n",
       "    <tr>\n",
       "      <th>croutonballs</th>\n",
       "      <td>cool, thanks for taking the time to educate a ...</td>\n",
       "      <td>[]</td>\n",
       "      <td>0.0</td>\n",
       "      <td>96.0</td>\n",
       "      <td>2017-10-19</td>\n",
       "      <td>2021-11-22</td>\n",
       "      <td>NaN</td>\n",
       "      <td>NaN</td>\n",
       "      <td>9</td>\n",
       "      <td>NaN</td>\n",
       "      <td>0.0</td>\n",
       "    </tr>\n",
       "  </tbody>\n",
       "</table>\n",
       "</div>"
      ],
      "text/plain": [
       "                                                                text  \\\n",
       "author                                                                 \n",
       "A_Clever_Ape       That's a good article. The Cubans are doing go...   \n",
       "wysiwyg1999        When you have a political parasite telling oth...   \n",
       "FilthySnek         yall be like \"yeah climate change is bad and w...   \n",
       "timpanzeez         Be a member of a group that publishes literatu...   \n",
       "rapscallionrodent  From what I've read, there's no doubt that the...   \n",
       "bigsuzao                  0x5084047075dAF25e51F7eC90533D76226B8061A9   \n",
       "usually_witty      I listened to the audio book so my memory is a...   \n",
       "jamieooo           I want to say climate change too. \\n\\nThe impa...   \n",
       "SavageNorth        Probably because they’re American, it’s far le...   \n",
       "croutonballs       cool, thanks for taking the time to educate a ...   \n",
       "\n",
       "                  all_awardings  total_awards_received  score first_comment  \\\n",
       "author                                                                        \n",
       "A_Clever_Ape                 []                    0.0    1.0    2022-01-29   \n",
       "wysiwyg1999                  []                    0.0    2.0    2018-11-26   \n",
       "FilthySnek                   []                    0.0   39.0    2019-07-17   \n",
       "timpanzeez                   []                    0.0    1.0    2021-12-15   \n",
       "rapscallionrodent            []                    0.0    1.0    2020-03-31   \n",
       "bigsuzao                     []                    0.0    1.0    2021-10-21   \n",
       "usually_witty                []                    0.0    2.0    2021-09-11   \n",
       "jamieooo                     []                    0.0    1.0    2021-12-27   \n",
       "SavageNorth                  []                    0.0    2.0    2019-11-28   \n",
       "croutonballs                 []                    0.0   96.0    2017-10-19   \n",
       "\n",
       "                  last_comment first_submission last_submission  num_comments  \\\n",
       "author                                                                          \n",
       "A_Clever_Ape        2022-01-29              NaN             NaN             1   \n",
       "wysiwyg1999         2018-11-26              NaN             NaN             1   \n",
       "FilthySnek          2019-07-19       2019-07-17      2019-08-24             3   \n",
       "timpanzeez          2021-12-15              NaN             NaN             1   \n",
       "rapscallionrodent   2020-03-31              NaN             NaN             1   \n",
       "bigsuzao            2021-10-21              NaN             NaN             1   \n",
       "usually_witty       2021-09-11              NaN             NaN             1   \n",
       "jamieooo            2021-12-27              NaN             NaN             1   \n",
       "SavageNorth         2019-12-14              NaN             NaN             2   \n",
       "croutonballs        2021-11-22              NaN             NaN             9   \n",
       "\n",
       "                   num_submissions  comment_controversiality  \n",
       "author                                                        \n",
       "A_Clever_Ape                   NaN                       0.0  \n",
       "wysiwyg1999                    NaN                       0.0  \n",
       "FilthySnek                     3.0                       0.0  \n",
       "timpanzeez                     NaN                       0.0  \n",
       "rapscallionrodent              NaN                       0.0  \n",
       "bigsuzao                       NaN                       0.0  \n",
       "usually_witty                  NaN                       0.0  \n",
       "jamieooo                       NaN                       0.0  \n",
       "SavageNorth                    NaN                       0.0  \n",
       "croutonballs                   NaN                       0.0  "
      ]
     },
     "execution_count": 60,
     "metadata": {},
     "output_type": "execute_result"
    }
   ],
   "source": [
    "author = pd.DataFrame()\n",
    "print(\"Running...\")\n",
    "for attr, fill in {'text': 'list', 'all_awardings': 'list', 'total_awards_received': 'num', 'score': 'num'}.items():\n",
    "    for letter in ['s', 'c']:\n",
    "        \n",
    "        # reformat rows\n",
    "        if fill == 'list':\n",
    "            author_joined[f'{attr}_{letter}'] = author_joined[f'{attr}_{letter}'].fillna(\"\").apply(list)\n",
    "        elif fill == 'num':\n",
    "            author_joined[f'{attr}_{letter}'] = author_joined[f'{attr}_{letter}'].fillna(0)\n",
    "            \n",
    "    # create combined dataframe\n",
    "    author[f'{attr}'] = author_joined[f'{attr}_s'] + author_joined[f'{attr}_c']\n",
    "print(\"Successfully combined dataframe!\")\n",
    "\n",
    "# keep relevant attributes\n",
    "aoi = ['first_comment', 'last_comment', \n",
    "       'first_submission', 'last_submission', \n",
    "       'num_comments', 'num_submissions',  \n",
    "       'controversiality']\n",
    "author[aoi] = author_joined[aoi]\n",
    "\n",
    "# modify list of texts to one large string\n",
    "author['text'] = author['text'].progress_apply(lambda x: ' '.join(str(v) for v in x))\n",
    "\n",
    "# rename\n",
    "author = author.rename(columns={'controversiality':'comment_controversiality'})\n",
    "author.sample(10)"
   ]
  },
  {
   "cell_type": "code",
   "execution_count": 1,
   "id": "21deb5cd",
   "metadata": {},
   "outputs": [],
   "source": [
    "# load stop-words\n",
    "stop_words = set(stopwords.words('english'))\n",
    "\n",
    "# add webpages to stopwords\n",
    "stop_words.add('http') \n",
    "stop_words.add('https')\n",
    "\n",
    "# Preprocess the text \n",
    "porter = PorterStemmer()\n",
    "exclusions = {'RT'}\n",
    "\n",
    "# define tokenizing function\n",
    "clean = lambda x: Counter([porter.stem(word_token).lower() for word_token in word_tokenize(x) \\\n",
    "                       if porter.stem(word_token) not in stop_words \\\n",
    "                       and word_token.isalpha() \\\n",
    "                       and word_token not in exclusions])\n",
    "\n",
    "# apply tokenizing to texts - progress_apply for seeing progress bar WHEN running\n",
    "tokens = author['text'].progress_apply(lambda text: clean(text))\n",
    "author['tokens'] = tokens\n",
    "\n",
    "# join tokens to one string\n",
    "author['processed_text'] = author['tokens'].progress_apply(lambda x: ' '.join(str(v) for v in x))"
   ]
  },
  {
   "cell_type": "code",
   "execution_count": null,
   "id": "9c6c0ff8",
   "metadata": {},
   "outputs": [],
   "source": [
    "author.to_json(DATA_DIR / 'author_df.json.bz2')"
   ]
  },
  {
   "cell_type": "markdown",
   "id": "731f952d",
   "metadata": {},
   "source": [
    "# TODO: INVESTIGATE OPINION SCORE TO THE METADATA!"
   ]
  },
  {
   "cell_type": "code",
   "execution_count": 6,
   "id": "cbadf5b3",
   "metadata": {},
   "outputs": [],
   "source": [
    "author = pd.read_json(DATA_DIR / 'author_df.json.bz2')"
   ]
  },
  {
   "cell_type": "code",
   "execution_count": 7,
   "id": "f9d7f980",
   "metadata": {},
   "outputs": [],
   "source": [
    "pkl_filename = Path(os.getcwd()).parent / 'model/RandomForest_TwitterOpinion.pkl'\n",
    "\n",
    "with open(pkl_filename, 'rb') as file:\n",
    "    model = pickle.load(file)"
   ]
  },
  {
   "cell_type": "code",
   "execution_count": 46,
   "id": "48bbf1db",
   "metadata": {},
   "outputs": [
    {
     "data": {
      "application/vnd.jupyter.widget-view+json": {
       "model_id": "21572f4a0010444da53118103684af43",
       "version_major": 2,
       "version_minor": 0
      },
      "text/plain": [
       "  0%|          | 0/346273 [00:00<?, ?it/s]"
      ]
     },
     "metadata": {},
     "output_type": "display_data"
    },
    {
     "ename": "KeyboardInterrupt",
     "evalue": "",
     "output_type": "error",
     "traceback": [
      "\u001b[0;31m---------------------------------------------------------------------------\u001b[0m",
      "\u001b[0;31mKeyboardInterrupt\u001b[0m                         Traceback (most recent call last)",
      "Input \u001b[0;32mIn [46]\u001b[0m, in \u001b[0;36m<cell line: 3>\u001b[0;34m()\u001b[0m\n\u001b[1;32m      2\u001b[0m opinions \u001b[38;5;241m=\u001b[39m [\u001b[38;5;124m'\u001b[39m\u001b[38;5;124mNaN\u001b[39m\u001b[38;5;124m'\u001b[39m] \u001b[38;5;241m*\u001b[39m X\u001b[38;5;241m.\u001b[39m\u001b[38;5;21m__len__\u001b[39m()\n\u001b[1;32m      3\u001b[0m \u001b[38;5;28;01mfor\u001b[39;00m i, x \u001b[38;5;129;01min\u001b[39;00m \u001b[38;5;28menumerate\u001b[39m(tqdm(X)):\n\u001b[0;32m----> 4\u001b[0m     pred \u001b[38;5;241m=\u001b[39m \u001b[43mmodel\u001b[49m\u001b[38;5;241;43m.\u001b[39;49m\u001b[43mpredict\u001b[49m\u001b[43m(\u001b[49m\u001b[43m[\u001b[49m\u001b[43mx\u001b[49m\u001b[43m]\u001b[49m\u001b[43m)\u001b[49m\n\u001b[1;32m      5\u001b[0m     opinions[i] \u001b[38;5;241m=\u001b[39m pred[\u001b[38;5;241m0\u001b[39m]\n\u001b[1;32m      7\u001b[0m author[\u001b[38;5;124m'\u001b[39m\u001b[38;5;124mopinion\u001b[39m\u001b[38;5;124m'\u001b[39m] \u001b[38;5;241m=\u001b[39m opinions\n",
      "File \u001b[0;32m~/Downloads/ENTER/envs/comsocsci_project/lib/python3.8/site-packages/sklearn/utils/metaestimators.py:113\u001b[0m, in \u001b[0;36m_AvailableIfDescriptor.__get__.<locals>.<lambda>\u001b[0;34m(*args, **kwargs)\u001b[0m\n\u001b[1;32m    110\u001b[0m         \u001b[38;5;28;01mraise\u001b[39;00m attr_err\n\u001b[1;32m    112\u001b[0m     \u001b[38;5;66;03m# lambda, but not partial, allows help() to work with update_wrapper\u001b[39;00m\n\u001b[0;32m--> 113\u001b[0m     out \u001b[38;5;241m=\u001b[39m \u001b[38;5;28;01mlambda\u001b[39;00m \u001b[38;5;241m*\u001b[39margs, \u001b[38;5;241m*\u001b[39m\u001b[38;5;241m*\u001b[39mkwargs: \u001b[38;5;28;43mself\u001b[39;49m\u001b[38;5;241;43m.\u001b[39;49m\u001b[43mfn\u001b[49m\u001b[43m(\u001b[49m\u001b[43mobj\u001b[49m\u001b[43m,\u001b[49m\u001b[43m \u001b[49m\u001b[38;5;241;43m*\u001b[39;49m\u001b[43margs\u001b[49m\u001b[43m,\u001b[49m\u001b[43m \u001b[49m\u001b[38;5;241;43m*\u001b[39;49m\u001b[38;5;241;43m*\u001b[39;49m\u001b[43mkwargs\u001b[49m\u001b[43m)\u001b[49m  \u001b[38;5;66;03m# noqa\u001b[39;00m\n\u001b[1;32m    114\u001b[0m \u001b[38;5;28;01melse\u001b[39;00m:\n\u001b[1;32m    116\u001b[0m     \u001b[38;5;28;01mdef\u001b[39;00m \u001b[38;5;21mfn\u001b[39m(\u001b[38;5;241m*\u001b[39margs, \u001b[38;5;241m*\u001b[39m\u001b[38;5;241m*\u001b[39mkwargs):\n",
      "File \u001b[0;32m~/Downloads/ENTER/envs/comsocsci_project/lib/python3.8/site-packages/sklearn/model_selection/_search.py:521\u001b[0m, in \u001b[0;36mBaseSearchCV.predict\u001b[0;34m(self, X)\u001b[0m\n\u001b[1;32m    503\u001b[0m \u001b[38;5;124;03m\"\"\"Call predict on the estimator with the best found parameters.\u001b[39;00m\n\u001b[1;32m    504\u001b[0m \n\u001b[1;32m    505\u001b[0m \u001b[38;5;124;03mOnly available if ``refit=True`` and the underlying estimator supports\u001b[39;00m\n\u001b[0;32m   (...)\u001b[0m\n\u001b[1;32m    518\u001b[0m \u001b[38;5;124;03m    the best found parameters.\u001b[39;00m\n\u001b[1;32m    519\u001b[0m \u001b[38;5;124;03m\"\"\"\u001b[39;00m\n\u001b[1;32m    520\u001b[0m check_is_fitted(\u001b[38;5;28mself\u001b[39m)\n\u001b[0;32m--> 521\u001b[0m \u001b[38;5;28;01mreturn\u001b[39;00m \u001b[38;5;28;43mself\u001b[39;49m\u001b[38;5;241;43m.\u001b[39;49m\u001b[43mbest_estimator_\u001b[49m\u001b[38;5;241;43m.\u001b[39;49m\u001b[43mpredict\u001b[49m\u001b[43m(\u001b[49m\u001b[43mX\u001b[49m\u001b[43m)\u001b[49m\n",
      "File \u001b[0;32m~/Downloads/ENTER/envs/comsocsci_project/lib/python3.8/site-packages/sklearn/utils/metaestimators.py:113\u001b[0m, in \u001b[0;36m_AvailableIfDescriptor.__get__.<locals>.<lambda>\u001b[0;34m(*args, **kwargs)\u001b[0m\n\u001b[1;32m    110\u001b[0m         \u001b[38;5;28;01mraise\u001b[39;00m attr_err\n\u001b[1;32m    112\u001b[0m     \u001b[38;5;66;03m# lambda, but not partial, allows help() to work with update_wrapper\u001b[39;00m\n\u001b[0;32m--> 113\u001b[0m     out \u001b[38;5;241m=\u001b[39m \u001b[38;5;28;01mlambda\u001b[39;00m \u001b[38;5;241m*\u001b[39margs, \u001b[38;5;241m*\u001b[39m\u001b[38;5;241m*\u001b[39mkwargs: \u001b[38;5;28;43mself\u001b[39;49m\u001b[38;5;241;43m.\u001b[39;49m\u001b[43mfn\u001b[49m\u001b[43m(\u001b[49m\u001b[43mobj\u001b[49m\u001b[43m,\u001b[49m\u001b[43m \u001b[49m\u001b[38;5;241;43m*\u001b[39;49m\u001b[43margs\u001b[49m\u001b[43m,\u001b[49m\u001b[43m \u001b[49m\u001b[38;5;241;43m*\u001b[39;49m\u001b[38;5;241;43m*\u001b[39;49m\u001b[43mkwargs\u001b[49m\u001b[43m)\u001b[49m  \u001b[38;5;66;03m# noqa\u001b[39;00m\n\u001b[1;32m    114\u001b[0m \u001b[38;5;28;01melse\u001b[39;00m:\n\u001b[1;32m    116\u001b[0m     \u001b[38;5;28;01mdef\u001b[39;00m \u001b[38;5;21mfn\u001b[39m(\u001b[38;5;241m*\u001b[39margs, \u001b[38;5;241m*\u001b[39m\u001b[38;5;241m*\u001b[39mkwargs):\n",
      "File \u001b[0;32m~/Downloads/ENTER/envs/comsocsci_project/lib/python3.8/site-packages/sklearn/pipeline.py:470\u001b[0m, in \u001b[0;36mPipeline.predict\u001b[0;34m(self, X, **predict_params)\u001b[0m\n\u001b[1;32m    468\u001b[0m \u001b[38;5;28;01mfor\u001b[39;00m _, name, transform \u001b[38;5;129;01min\u001b[39;00m \u001b[38;5;28mself\u001b[39m\u001b[38;5;241m.\u001b[39m_iter(with_final\u001b[38;5;241m=\u001b[39m\u001b[38;5;28;01mFalse\u001b[39;00m):\n\u001b[1;32m    469\u001b[0m     Xt \u001b[38;5;241m=\u001b[39m transform\u001b[38;5;241m.\u001b[39mtransform(Xt)\n\u001b[0;32m--> 470\u001b[0m \u001b[38;5;28;01mreturn\u001b[39;00m \u001b[38;5;28;43mself\u001b[39;49m\u001b[38;5;241;43m.\u001b[39;49m\u001b[43msteps\u001b[49m\u001b[43m[\u001b[49m\u001b[38;5;241;43m-\u001b[39;49m\u001b[38;5;241;43m1\u001b[39;49m\u001b[43m]\u001b[49m\u001b[43m[\u001b[49m\u001b[38;5;241;43m1\u001b[39;49m\u001b[43m]\u001b[49m\u001b[38;5;241;43m.\u001b[39;49m\u001b[43mpredict\u001b[49m\u001b[43m(\u001b[49m\u001b[43mXt\u001b[49m\u001b[43m,\u001b[49m\u001b[43m \u001b[49m\u001b[38;5;241;43m*\u001b[39;49m\u001b[38;5;241;43m*\u001b[39;49m\u001b[43mpredict_params\u001b[49m\u001b[43m)\u001b[49m\n",
      "File \u001b[0;32m~/Downloads/ENTER/envs/comsocsci_project/lib/python3.8/site-packages/sklearn/ensemble/_forest.py:808\u001b[0m, in \u001b[0;36mForestClassifier.predict\u001b[0;34m(self, X)\u001b[0m\n\u001b[1;32m    787\u001b[0m \u001b[38;5;28;01mdef\u001b[39;00m \u001b[38;5;21mpredict\u001b[39m(\u001b[38;5;28mself\u001b[39m, X):\n\u001b[1;32m    788\u001b[0m     \u001b[38;5;124;03m\"\"\"\u001b[39;00m\n\u001b[1;32m    789\u001b[0m \u001b[38;5;124;03m    Predict class for X.\u001b[39;00m\n\u001b[1;32m    790\u001b[0m \n\u001b[0;32m   (...)\u001b[0m\n\u001b[1;32m    806\u001b[0m \u001b[38;5;124;03m        The predicted classes.\u001b[39;00m\n\u001b[1;32m    807\u001b[0m \u001b[38;5;124;03m    \"\"\"\u001b[39;00m\n\u001b[0;32m--> 808\u001b[0m     proba \u001b[38;5;241m=\u001b[39m \u001b[38;5;28;43mself\u001b[39;49m\u001b[38;5;241;43m.\u001b[39;49m\u001b[43mpredict_proba\u001b[49m\u001b[43m(\u001b[49m\u001b[43mX\u001b[49m\u001b[43m)\u001b[49m\n\u001b[1;32m    810\u001b[0m     \u001b[38;5;28;01mif\u001b[39;00m \u001b[38;5;28mself\u001b[39m\u001b[38;5;241m.\u001b[39mn_outputs_ \u001b[38;5;241m==\u001b[39m \u001b[38;5;241m1\u001b[39m:\n\u001b[1;32m    811\u001b[0m         \u001b[38;5;28;01mreturn\u001b[39;00m \u001b[38;5;28mself\u001b[39m\u001b[38;5;241m.\u001b[39mclasses_\u001b[38;5;241m.\u001b[39mtake(np\u001b[38;5;241m.\u001b[39margmax(proba, axis\u001b[38;5;241m=\u001b[39m\u001b[38;5;241m1\u001b[39m), axis\u001b[38;5;241m=\u001b[39m\u001b[38;5;241m0\u001b[39m)\n",
      "File \u001b[0;32m~/Downloads/ENTER/envs/comsocsci_project/lib/python3.8/site-packages/sklearn/ensemble/_forest.py:861\u001b[0m, in \u001b[0;36mForestClassifier.predict_proba\u001b[0;34m(self, X)\u001b[0m\n\u001b[1;32m    856\u001b[0m all_proba \u001b[38;5;241m=\u001b[39m [\n\u001b[1;32m    857\u001b[0m     np\u001b[38;5;241m.\u001b[39mzeros((X\u001b[38;5;241m.\u001b[39mshape[\u001b[38;5;241m0\u001b[39m], j), dtype\u001b[38;5;241m=\u001b[39mnp\u001b[38;5;241m.\u001b[39mfloat64)\n\u001b[1;32m    858\u001b[0m     \u001b[38;5;28;01mfor\u001b[39;00m j \u001b[38;5;129;01min\u001b[39;00m np\u001b[38;5;241m.\u001b[39matleast_1d(\u001b[38;5;28mself\u001b[39m\u001b[38;5;241m.\u001b[39mn_classes_)\n\u001b[1;32m    859\u001b[0m ]\n\u001b[1;32m    860\u001b[0m lock \u001b[38;5;241m=\u001b[39m threading\u001b[38;5;241m.\u001b[39mLock()\n\u001b[0;32m--> 861\u001b[0m \u001b[43mParallel\u001b[49m\u001b[43m(\u001b[49m\n\u001b[1;32m    862\u001b[0m \u001b[43m    \u001b[49m\u001b[43mn_jobs\u001b[49m\u001b[38;5;241;43m=\u001b[39;49m\u001b[43mn_jobs\u001b[49m\u001b[43m,\u001b[49m\n\u001b[1;32m    863\u001b[0m \u001b[43m    \u001b[49m\u001b[43mverbose\u001b[49m\u001b[38;5;241;43m=\u001b[39;49m\u001b[38;5;28;43mself\u001b[39;49m\u001b[38;5;241;43m.\u001b[39;49m\u001b[43mverbose\u001b[49m\u001b[43m,\u001b[49m\n\u001b[1;32m    864\u001b[0m \u001b[43m    \u001b[49m\u001b[38;5;241;43m*\u001b[39;49m\u001b[38;5;241;43m*\u001b[39;49m\u001b[43m_joblib_parallel_args\u001b[49m\u001b[43m(\u001b[49m\u001b[43mrequire\u001b[49m\u001b[38;5;241;43m=\u001b[39;49m\u001b[38;5;124;43m\"\u001b[39;49m\u001b[38;5;124;43msharedmem\u001b[39;49m\u001b[38;5;124;43m\"\u001b[39;49m\u001b[43m)\u001b[49m\u001b[43m,\u001b[49m\n\u001b[1;32m    865\u001b[0m \u001b[43m\u001b[49m\u001b[43m)\u001b[49m\u001b[43m(\u001b[49m\n\u001b[1;32m    866\u001b[0m \u001b[43m    \u001b[49m\u001b[43mdelayed\u001b[49m\u001b[43m(\u001b[49m\u001b[43m_accumulate_prediction\u001b[49m\u001b[43m)\u001b[49m\u001b[43m(\u001b[49m\u001b[43me\u001b[49m\u001b[38;5;241;43m.\u001b[39;49m\u001b[43mpredict_proba\u001b[49m\u001b[43m,\u001b[49m\u001b[43m \u001b[49m\u001b[43mX\u001b[49m\u001b[43m,\u001b[49m\u001b[43m \u001b[49m\u001b[43mall_proba\u001b[49m\u001b[43m,\u001b[49m\u001b[43m \u001b[49m\u001b[43mlock\u001b[49m\u001b[43m)\u001b[49m\n\u001b[1;32m    867\u001b[0m \u001b[43m    \u001b[49m\u001b[38;5;28;43;01mfor\u001b[39;49;00m\u001b[43m \u001b[49m\u001b[43me\u001b[49m\u001b[43m \u001b[49m\u001b[38;5;129;43;01min\u001b[39;49;00m\u001b[43m \u001b[49m\u001b[38;5;28;43mself\u001b[39;49m\u001b[38;5;241;43m.\u001b[39;49m\u001b[43mestimators_\u001b[49m\n\u001b[1;32m    868\u001b[0m \u001b[43m\u001b[49m\u001b[43m)\u001b[49m\n\u001b[1;32m    870\u001b[0m \u001b[38;5;28;01mfor\u001b[39;00m proba \u001b[38;5;129;01min\u001b[39;00m all_proba:\n\u001b[1;32m    871\u001b[0m     proba \u001b[38;5;241m/\u001b[39m\u001b[38;5;241m=\u001b[39m \u001b[38;5;28mlen\u001b[39m(\u001b[38;5;28mself\u001b[39m\u001b[38;5;241m.\u001b[39mestimators_)\n",
      "File \u001b[0;32m~/Downloads/ENTER/envs/comsocsci_project/lib/python3.8/site-packages/joblib/parallel.py:1046\u001b[0m, in \u001b[0;36mParallel.__call__\u001b[0;34m(self, iterable)\u001b[0m\n\u001b[1;32m   1043\u001b[0m \u001b[38;5;28;01mif\u001b[39;00m \u001b[38;5;28mself\u001b[39m\u001b[38;5;241m.\u001b[39mdispatch_one_batch(iterator):\n\u001b[1;32m   1044\u001b[0m     \u001b[38;5;28mself\u001b[39m\u001b[38;5;241m.\u001b[39m_iterating \u001b[38;5;241m=\u001b[39m \u001b[38;5;28mself\u001b[39m\u001b[38;5;241m.\u001b[39m_original_iterator \u001b[38;5;129;01mis\u001b[39;00m \u001b[38;5;129;01mnot\u001b[39;00m \u001b[38;5;28;01mNone\u001b[39;00m\n\u001b[0;32m-> 1046\u001b[0m \u001b[38;5;28;01mwhile\u001b[39;00m \u001b[38;5;28;43mself\u001b[39;49m\u001b[38;5;241;43m.\u001b[39;49m\u001b[43mdispatch_one_batch\u001b[49m\u001b[43m(\u001b[49m\u001b[43miterator\u001b[49m\u001b[43m)\u001b[49m:\n\u001b[1;32m   1047\u001b[0m     \u001b[38;5;28;01mpass\u001b[39;00m\n\u001b[1;32m   1049\u001b[0m \u001b[38;5;28;01mif\u001b[39;00m pre_dispatch \u001b[38;5;241m==\u001b[39m \u001b[38;5;124m\"\u001b[39m\u001b[38;5;124mall\u001b[39m\u001b[38;5;124m\"\u001b[39m \u001b[38;5;129;01mor\u001b[39;00m n_jobs \u001b[38;5;241m==\u001b[39m \u001b[38;5;241m1\u001b[39m:\n\u001b[1;32m   1050\u001b[0m     \u001b[38;5;66;03m# The iterable was consumed all at once by the above for loop.\u001b[39;00m\n\u001b[1;32m   1051\u001b[0m     \u001b[38;5;66;03m# No need to wait for async callbacks to trigger to\u001b[39;00m\n\u001b[1;32m   1052\u001b[0m     \u001b[38;5;66;03m# consumption.\u001b[39;00m\n",
      "File \u001b[0;32m~/Downloads/ENTER/envs/comsocsci_project/lib/python3.8/site-packages/joblib/parallel.py:861\u001b[0m, in \u001b[0;36mParallel.dispatch_one_batch\u001b[0;34m(self, iterator)\u001b[0m\n\u001b[1;32m    859\u001b[0m     \u001b[38;5;28;01mreturn\u001b[39;00m \u001b[38;5;28;01mFalse\u001b[39;00m\n\u001b[1;32m    860\u001b[0m \u001b[38;5;28;01melse\u001b[39;00m:\n\u001b[0;32m--> 861\u001b[0m     \u001b[38;5;28;43mself\u001b[39;49m\u001b[38;5;241;43m.\u001b[39;49m\u001b[43m_dispatch\u001b[49m\u001b[43m(\u001b[49m\u001b[43mtasks\u001b[49m\u001b[43m)\u001b[49m\n\u001b[1;32m    862\u001b[0m     \u001b[38;5;28;01mreturn\u001b[39;00m \u001b[38;5;28;01mTrue\u001b[39;00m\n",
      "File \u001b[0;32m~/Downloads/ENTER/envs/comsocsci_project/lib/python3.8/site-packages/joblib/parallel.py:779\u001b[0m, in \u001b[0;36mParallel._dispatch\u001b[0;34m(self, batch)\u001b[0m\n\u001b[1;32m    777\u001b[0m \u001b[38;5;28;01mwith\u001b[39;00m \u001b[38;5;28mself\u001b[39m\u001b[38;5;241m.\u001b[39m_lock:\n\u001b[1;32m    778\u001b[0m     job_idx \u001b[38;5;241m=\u001b[39m \u001b[38;5;28mlen\u001b[39m(\u001b[38;5;28mself\u001b[39m\u001b[38;5;241m.\u001b[39m_jobs)\n\u001b[0;32m--> 779\u001b[0m     job \u001b[38;5;241m=\u001b[39m \u001b[38;5;28;43mself\u001b[39;49m\u001b[38;5;241;43m.\u001b[39;49m\u001b[43m_backend\u001b[49m\u001b[38;5;241;43m.\u001b[39;49m\u001b[43mapply_async\u001b[49m\u001b[43m(\u001b[49m\u001b[43mbatch\u001b[49m\u001b[43m,\u001b[49m\u001b[43m \u001b[49m\u001b[43mcallback\u001b[49m\u001b[38;5;241;43m=\u001b[39;49m\u001b[43mcb\u001b[49m\u001b[43m)\u001b[49m\n\u001b[1;32m    780\u001b[0m     \u001b[38;5;66;03m# A job can complete so quickly than its callback is\u001b[39;00m\n\u001b[1;32m    781\u001b[0m     \u001b[38;5;66;03m# called before we get here, causing self._jobs to\u001b[39;00m\n\u001b[1;32m    782\u001b[0m     \u001b[38;5;66;03m# grow. To ensure correct results ordering, .insert is\u001b[39;00m\n\u001b[1;32m    783\u001b[0m     \u001b[38;5;66;03m# used (rather than .append) in the following line\u001b[39;00m\n\u001b[1;32m    784\u001b[0m     \u001b[38;5;28mself\u001b[39m\u001b[38;5;241m.\u001b[39m_jobs\u001b[38;5;241m.\u001b[39minsert(job_idx, job)\n",
      "File \u001b[0;32m~/Downloads/ENTER/envs/comsocsci_project/lib/python3.8/site-packages/joblib/_parallel_backends.py:208\u001b[0m, in \u001b[0;36mSequentialBackend.apply_async\u001b[0;34m(self, func, callback)\u001b[0m\n\u001b[1;32m    206\u001b[0m \u001b[38;5;28;01mdef\u001b[39;00m \u001b[38;5;21mapply_async\u001b[39m(\u001b[38;5;28mself\u001b[39m, func, callback\u001b[38;5;241m=\u001b[39m\u001b[38;5;28;01mNone\u001b[39;00m):\n\u001b[1;32m    207\u001b[0m     \u001b[38;5;124;03m\"\"\"Schedule a func to be run\"\"\"\u001b[39;00m\n\u001b[0;32m--> 208\u001b[0m     result \u001b[38;5;241m=\u001b[39m \u001b[43mImmediateResult\u001b[49m\u001b[43m(\u001b[49m\u001b[43mfunc\u001b[49m\u001b[43m)\u001b[49m\n\u001b[1;32m    209\u001b[0m     \u001b[38;5;28;01mif\u001b[39;00m callback:\n\u001b[1;32m    210\u001b[0m         callback(result)\n",
      "File \u001b[0;32m~/Downloads/ENTER/envs/comsocsci_project/lib/python3.8/site-packages/joblib/_parallel_backends.py:572\u001b[0m, in \u001b[0;36mImmediateResult.__init__\u001b[0;34m(self, batch)\u001b[0m\n\u001b[1;32m    569\u001b[0m \u001b[38;5;28;01mdef\u001b[39;00m \u001b[38;5;21m__init__\u001b[39m(\u001b[38;5;28mself\u001b[39m, batch):\n\u001b[1;32m    570\u001b[0m     \u001b[38;5;66;03m# Don't delay the application, to avoid keeping the input\u001b[39;00m\n\u001b[1;32m    571\u001b[0m     \u001b[38;5;66;03m# arguments in memory\u001b[39;00m\n\u001b[0;32m--> 572\u001b[0m     \u001b[38;5;28mself\u001b[39m\u001b[38;5;241m.\u001b[39mresults \u001b[38;5;241m=\u001b[39m \u001b[43mbatch\u001b[49m\u001b[43m(\u001b[49m\u001b[43m)\u001b[49m\n",
      "File \u001b[0;32m~/Downloads/ENTER/envs/comsocsci_project/lib/python3.8/site-packages/joblib/parallel.py:262\u001b[0m, in \u001b[0;36mBatchedCalls.__call__\u001b[0;34m(self)\u001b[0m\n\u001b[1;32m    258\u001b[0m \u001b[38;5;28;01mdef\u001b[39;00m \u001b[38;5;21m__call__\u001b[39m(\u001b[38;5;28mself\u001b[39m):\n\u001b[1;32m    259\u001b[0m     \u001b[38;5;66;03m# Set the default nested backend to self._backend but do not set the\u001b[39;00m\n\u001b[1;32m    260\u001b[0m     \u001b[38;5;66;03m# change the default number of processes to -1\u001b[39;00m\n\u001b[1;32m    261\u001b[0m     \u001b[38;5;28;01mwith\u001b[39;00m parallel_backend(\u001b[38;5;28mself\u001b[39m\u001b[38;5;241m.\u001b[39m_backend, n_jobs\u001b[38;5;241m=\u001b[39m\u001b[38;5;28mself\u001b[39m\u001b[38;5;241m.\u001b[39m_n_jobs):\n\u001b[0;32m--> 262\u001b[0m         \u001b[38;5;28;01mreturn\u001b[39;00m [func(\u001b[38;5;241m*\u001b[39margs, \u001b[38;5;241m*\u001b[39m\u001b[38;5;241m*\u001b[39mkwargs)\n\u001b[1;32m    263\u001b[0m                 \u001b[38;5;28;01mfor\u001b[39;00m func, args, kwargs \u001b[38;5;129;01min\u001b[39;00m \u001b[38;5;28mself\u001b[39m\u001b[38;5;241m.\u001b[39mitems]\n",
      "File \u001b[0;32m~/Downloads/ENTER/envs/comsocsci_project/lib/python3.8/site-packages/joblib/parallel.py:262\u001b[0m, in \u001b[0;36m<listcomp>\u001b[0;34m(.0)\u001b[0m\n\u001b[1;32m    258\u001b[0m \u001b[38;5;28;01mdef\u001b[39;00m \u001b[38;5;21m__call__\u001b[39m(\u001b[38;5;28mself\u001b[39m):\n\u001b[1;32m    259\u001b[0m     \u001b[38;5;66;03m# Set the default nested backend to self._backend but do not set the\u001b[39;00m\n\u001b[1;32m    260\u001b[0m     \u001b[38;5;66;03m# change the default number of processes to -1\u001b[39;00m\n\u001b[1;32m    261\u001b[0m     \u001b[38;5;28;01mwith\u001b[39;00m parallel_backend(\u001b[38;5;28mself\u001b[39m\u001b[38;5;241m.\u001b[39m_backend, n_jobs\u001b[38;5;241m=\u001b[39m\u001b[38;5;28mself\u001b[39m\u001b[38;5;241m.\u001b[39m_n_jobs):\n\u001b[0;32m--> 262\u001b[0m         \u001b[38;5;28;01mreturn\u001b[39;00m [\u001b[43mfunc\u001b[49m\u001b[43m(\u001b[49m\u001b[38;5;241;43m*\u001b[39;49m\u001b[43margs\u001b[49m\u001b[43m,\u001b[49m\u001b[43m \u001b[49m\u001b[38;5;241;43m*\u001b[39;49m\u001b[38;5;241;43m*\u001b[39;49m\u001b[43mkwargs\u001b[49m\u001b[43m)\u001b[49m\n\u001b[1;32m    263\u001b[0m                 \u001b[38;5;28;01mfor\u001b[39;00m func, args, kwargs \u001b[38;5;129;01min\u001b[39;00m \u001b[38;5;28mself\u001b[39m\u001b[38;5;241m.\u001b[39mitems]\n",
      "File \u001b[0;32m~/Downloads/ENTER/envs/comsocsci_project/lib/python3.8/site-packages/sklearn/utils/fixes.py:216\u001b[0m, in \u001b[0;36m_FuncWrapper.__call__\u001b[0;34m(self, *args, **kwargs)\u001b[0m\n\u001b[1;32m    214\u001b[0m \u001b[38;5;28;01mdef\u001b[39;00m \u001b[38;5;21m__call__\u001b[39m(\u001b[38;5;28mself\u001b[39m, \u001b[38;5;241m*\u001b[39margs, \u001b[38;5;241m*\u001b[39m\u001b[38;5;241m*\u001b[39mkwargs):\n\u001b[1;32m    215\u001b[0m     \u001b[38;5;28;01mwith\u001b[39;00m config_context(\u001b[38;5;241m*\u001b[39m\u001b[38;5;241m*\u001b[39m\u001b[38;5;28mself\u001b[39m\u001b[38;5;241m.\u001b[39mconfig):\n\u001b[0;32m--> 216\u001b[0m         \u001b[38;5;28;01mreturn\u001b[39;00m \u001b[38;5;28mself\u001b[39m\u001b[38;5;241m.\u001b[39mfunction(\u001b[38;5;241m*\u001b[39margs, \u001b[38;5;241m*\u001b[39m\u001b[38;5;241m*\u001b[39mkwargs)\n",
      "File \u001b[0;32m~/Downloads/ENTER/envs/comsocsci_project/lib/python3.8/contextlib.py:118\u001b[0m, in \u001b[0;36m_GeneratorContextManager.__exit__\u001b[0;34m(self, type, value, traceback)\u001b[0m\n\u001b[1;32m    117\u001b[0m \u001b[38;5;28;01mdef\u001b[39;00m \u001b[38;5;21m__exit__\u001b[39m(\u001b[38;5;28mself\u001b[39m, \u001b[38;5;28mtype\u001b[39m, value, traceback):\n\u001b[0;32m--> 118\u001b[0m     \u001b[38;5;28;01mif\u001b[39;00m \u001b[38;5;28;43mtype\u001b[39;49m\u001b[43m \u001b[49m\u001b[38;5;129;43;01mis\u001b[39;49;00m\u001b[43m \u001b[49m\u001b[38;5;28;43;01mNone\u001b[39;49;00m:\n\u001b[1;32m    119\u001b[0m         \u001b[38;5;28;01mtry\u001b[39;00m:\n\u001b[1;32m    120\u001b[0m             \u001b[38;5;28mnext\u001b[39m(\u001b[38;5;28mself\u001b[39m\u001b[38;5;241m.\u001b[39mgen)\n",
      "\u001b[0;31mKeyboardInterrupt\u001b[0m: "
     ]
    }
   ],
   "source": [
    "X = author['processed_text'].to_numpy()\n",
    "opinions = ['NaN'] * X.__len__()\n",
    "\n",
    "for i, x in enumerate(tqdm(X)):\n",
    "    pred = model.predict([x])\n",
    "    opinions[i] = pred[0]\n",
    "\n",
    "author['opinion'] = opinions"
   ]
  },
  {
   "cell_type": "code",
   "execution_count": null,
   "id": "6225a550",
   "metadata": {},
   "outputs": [],
   "source": [
    "author.to_json(DATA_DIR / 'author_opinion.json.bz2')"
   ]
  },
  {
   "cell_type": "markdown",
   "id": "1ac22d7c",
   "metadata": {},
   "source": [
    "## 5) Create ClimateGraph from edgelist"
   ]
  },
  {
   "cell_type": "code",
   "execution_count": 3,
   "id": "8c7d64fe",
   "metadata": {},
   "outputs": [],
   "source": [
    "author = pd.read_json(DATA_DIR / 'author_opinion.json.bz2')"
   ]
  },
  {
   "cell_type": "code",
   "execution_count": 19,
   "id": "d8969247",
   "metadata": {},
   "outputs": [
    {
     "data": {
      "text/html": [
       "<div>\n",
       "<style scoped>\n",
       "    .dataframe tbody tr th:only-of-type {\n",
       "        vertical-align: middle;\n",
       "    }\n",
       "\n",
       "    .dataframe tbody tr th {\n",
       "        vertical-align: top;\n",
       "    }\n",
       "\n",
       "    .dataframe thead th {\n",
       "        text-align: right;\n",
       "    }\n",
       "</style>\n",
       "<table border=\"1\" class=\"dataframe\">\n",
       "  <thead>\n",
       "    <tr style=\"text-align: right;\">\n",
       "      <th></th>\n",
       "      <th>text</th>\n",
       "      <th>all_awardings</th>\n",
       "      <th>total_awards_received</th>\n",
       "      <th>score</th>\n",
       "      <th>first_comment</th>\n",
       "      <th>last_comment</th>\n",
       "      <th>first_submission</th>\n",
       "      <th>last_submission</th>\n",
       "      <th>num_comments</th>\n",
       "      <th>num_submissions</th>\n",
       "      <th>comment_controversiality</th>\n",
       "      <th>tokens</th>\n",
       "      <th>processed_text</th>\n",
       "      <th>opinion</th>\n",
       "    </tr>\n",
       "  </thead>\n",
       "  <tbody>\n",
       "    <tr>\n",
       "      <th>catbertz</th>\n",
       "      <td>Well that sucks. I guess I'll go burn some shi...</td>\n",
       "      <td>[]</td>\n",
       "      <td>0</td>\n",
       "      <td>1</td>\n",
       "      <td>1575417600000</td>\n",
       "      <td>1575417600000</td>\n",
       "      <td>NaN</td>\n",
       "      <td>NaN</td>\n",
       "      <td>1</td>\n",
       "      <td>NaN</td>\n",
       "      <td>0</td>\n",
       "      <td>{'well': 1, 'suck': 1, 'i': 2, 'guess': 1, 'go...</td>\n",
       "      <td>well suck i guess go burn shit bbq eas pain im...</td>\n",
       "      <td>Neutral</td>\n",
       "    </tr>\n",
       "    <tr>\n",
       "      <th>thestorys0far</th>\n",
       "      <td>Got a source on that?\\n\\nAnd because X pollute...</td>\n",
       "      <td>[]</td>\n",
       "      <td>0</td>\n",
       "      <td>2</td>\n",
       "      <td>1565049600000</td>\n",
       "      <td>1565049600000</td>\n",
       "      <td>NaN</td>\n",
       "      <td>NaN</td>\n",
       "      <td>2</td>\n",
       "      <td>NaN</td>\n",
       "      <td>0</td>\n",
       "      <td>{'got': 1, 'sourc': 1, 'becaus': 1, 'x': 1, 'p...</td>\n",
       "      <td>got sourc becaus x pollut y also account globa...</td>\n",
       "      <td>Neutral</td>\n",
       "    </tr>\n",
       "    <tr>\n",
       "      <th>Staghound_</th>\n",
       "      <td>I feel the trick is picking items that all wor...</td>\n",
       "      <td>[]</td>\n",
       "      <td>0</td>\n",
       "      <td>1</td>\n",
       "      <td>1433376000000</td>\n",
       "      <td>1433376000000</td>\n",
       "      <td>NaN</td>\n",
       "      <td>NaN</td>\n",
       "      <td>1</td>\n",
       "      <td>NaN</td>\n",
       "      <td>0</td>\n",
       "      <td>{'i': 2, 'feel': 1, 'trick': 1, 'pick': 1, 'it...</td>\n",
       "      <td>i feel trick pick item work right</td>\n",
       "      <td>Neutral</td>\n",
       "    </tr>\n",
       "    <tr>\n",
       "      <th>jlgoodin78</th>\n",
       "      <td>I have an idea — let’s pass legislation that s...</td>\n",
       "      <td>[]</td>\n",
       "      <td>0</td>\n",
       "      <td>1</td>\n",
       "      <td>1639872000000</td>\n",
       "      <td>1639872000000</td>\n",
       "      <td>NaN</td>\n",
       "      <td>NaN</td>\n",
       "      <td>1</td>\n",
       "      <td>NaN</td>\n",
       "      <td>0</td>\n",
       "      <td>{'i': 1, 'idea': 1, 'let': 1, 'pass': 1, 'legi...</td>\n",
       "      <td>i idea let pass legisl state receiv feder fund...</td>\n",
       "      <td>Neutral</td>\n",
       "    </tr>\n",
       "    <tr>\n",
       "      <th>douggieboy</th>\n",
       "      <td>Fuck Aaron Hawkins eh. Such a virtue signallin...</td>\n",
       "      <td>[]</td>\n",
       "      <td>0</td>\n",
       "      <td>1</td>\n",
       "      <td>1560124800000</td>\n",
       "      <td>1560124800000</td>\n",
       "      <td>NaN</td>\n",
       "      <td>NaN</td>\n",
       "      <td>1</td>\n",
       "      <td>NaN</td>\n",
       "      <td>0</td>\n",
       "      <td>{'fuck': 1, 'aaron': 1, 'hawkin': 1, 'eh': 1, ...</td>\n",
       "      <td>fuck aaron hawkin eh virtu signal smarmi cunt</td>\n",
       "      <td>Neutral</td>\n",
       "    </tr>\n",
       "  </tbody>\n",
       "</table>\n",
       "</div>"
      ],
      "text/plain": [
       "                                                            text  \\\n",
       "catbertz       Well that sucks. I guess I'll go burn some shi...   \n",
       "thestorys0far  Got a source on that?\\n\\nAnd because X pollute...   \n",
       "Staghound_     I feel the trick is picking items that all wor...   \n",
       "jlgoodin78     I have an idea — let’s pass legislation that s...   \n",
       "douggieboy     Fuck Aaron Hawkins eh. Such a virtue signallin...   \n",
       "\n",
       "              all_awardings  total_awards_received  score  first_comment  \\\n",
       "catbertz                 []                      0      1  1575417600000   \n",
       "thestorys0far            []                      0      2  1565049600000   \n",
       "Staghound_               []                      0      1  1433376000000   \n",
       "jlgoodin78               []                      0      1  1639872000000   \n",
       "douggieboy               []                      0      1  1560124800000   \n",
       "\n",
       "                last_comment  first_submission  last_submission  num_comments  \\\n",
       "catbertz       1575417600000               NaN              NaN             1   \n",
       "thestorys0far  1565049600000               NaN              NaN             2   \n",
       "Staghound_     1433376000000               NaN              NaN             1   \n",
       "jlgoodin78     1639872000000               NaN              NaN             1   \n",
       "douggieboy     1560124800000               NaN              NaN             1   \n",
       "\n",
       "               num_submissions  comment_controversiality  \\\n",
       "catbertz                   NaN                         0   \n",
       "thestorys0far              NaN                         0   \n",
       "Staghound_                 NaN                         0   \n",
       "jlgoodin78                 NaN                         0   \n",
       "douggieboy                 NaN                         0   \n",
       "\n",
       "                                                          tokens  \\\n",
       "catbertz       {'well': 1, 'suck': 1, 'i': 2, 'guess': 1, 'go...   \n",
       "thestorys0far  {'got': 1, 'sourc': 1, 'becaus': 1, 'x': 1, 'p...   \n",
       "Staghound_     {'i': 2, 'feel': 1, 'trick': 1, 'pick': 1, 'it...   \n",
       "jlgoodin78     {'i': 1, 'idea': 1, 'let': 1, 'pass': 1, 'legi...   \n",
       "douggieboy     {'fuck': 1, 'aaron': 1, 'hawkin': 1, 'eh': 1, ...   \n",
       "\n",
       "                                                  processed_text  opinion  \n",
       "catbertz       well suck i guess go burn shit bbq eas pain im...  Neutral  \n",
       "thestorys0far  got sourc becaus x pollut y also account globa...  Neutral  \n",
       "Staghound_                     i feel trick pick item work right  Neutral  \n",
       "jlgoodin78     i idea let pass legisl state receiv feder fund...  Neutral  \n",
       "douggieboy         fuck aaron hawkin eh virtu signal smarmi cunt  Neutral  "
      ]
     },
     "execution_count": 19,
     "metadata": {},
     "output_type": "execute_result"
    }
   ],
   "source": [
    "author.sample(5)"
   ]
  },
  {
   "cell_type": "code",
   "execution_count": 5,
   "id": "e25945a6",
   "metadata": {},
   "outputs": [
    {
     "data": {
      "text/plain": [
       "Counter({'Neutral': 284862, 'Anti': 44423, 'Pro': 13847, 'News': 3141})"
      ]
     },
     "execution_count": 5,
     "metadata": {},
     "output_type": "execute_result"
    }
   ],
   "source": [
    "Counter(author['opinion'])"
   ]
  },
  {
   "cell_type": "code",
   "execution_count": 24,
   "id": "ea94826d",
   "metadata": {},
   "outputs": [],
   "source": [
    "# computing the weighted edgelist by counting - using score as a randomly picked attributed to obtain a single pd.Series\n",
    "weighted_edgelist = filtered_comments.groupby(by=['author', 'parent_author']).count().score\n",
    "weighted_edgelist = weighted_edgelist.reset_index().rename(columns={'score':'weight'})"
   ]
  },
  {
   "cell_type": "code",
   "execution_count": 25,
   "id": "ae243899",
   "metadata": {},
   "outputs": [
    {
     "data": {
      "text/html": [
       "<div>\n",
       "<style scoped>\n",
       "    .dataframe tbody tr th:only-of-type {\n",
       "        vertical-align: middle;\n",
       "    }\n",
       "\n",
       "    .dataframe tbody tr th {\n",
       "        vertical-align: top;\n",
       "    }\n",
       "\n",
       "    .dataframe thead th {\n",
       "        text-align: right;\n",
       "    }\n",
       "</style>\n",
       "<table border=\"1\" class=\"dataframe\">\n",
       "  <thead>\n",
       "    <tr style=\"text-align: right;\">\n",
       "      <th></th>\n",
       "      <th>author</th>\n",
       "      <th>parent_author</th>\n",
       "      <th>weight</th>\n",
       "    </tr>\n",
       "  </thead>\n",
       "  <tbody>\n",
       "    <tr>\n",
       "      <th>380985</th>\n",
       "      <td>VeggiesForThought</td>\n",
       "      <td>FirmFarmer</td>\n",
       "      <td>1</td>\n",
       "    </tr>\n",
       "    <tr>\n",
       "      <th>339795</th>\n",
       "      <td>SuperOrganizer</td>\n",
       "      <td>ReadShift</td>\n",
       "      <td>1</td>\n",
       "    </tr>\n",
       "    <tr>\n",
       "      <th>494217</th>\n",
       "      <td>fatcity</td>\n",
       "      <td>DrFaustPhD</td>\n",
       "      <td>1</td>\n",
       "    </tr>\n",
       "    <tr>\n",
       "      <th>592195</th>\n",
       "      <td>namrock23</td>\n",
       "      <td>last-resort-4-a-gf</td>\n",
       "      <td>1</td>\n",
       "    </tr>\n",
       "    <tr>\n",
       "      <th>663215</th>\n",
       "      <td>staycurrent</td>\n",
       "      <td>SkyIcewind</td>\n",
       "      <td>1</td>\n",
       "    </tr>\n",
       "  </tbody>\n",
       "</table>\n",
       "</div>"
      ],
      "text/plain": [
       "                   author       parent_author  weight\n",
       "380985  VeggiesForThought          FirmFarmer       1\n",
       "339795     SuperOrganizer           ReadShift       1\n",
       "494217            fatcity          DrFaustPhD       1\n",
       "592195          namrock23  last-resort-4-a-gf       1\n",
       "663215        staycurrent          SkyIcewind       1"
      ]
     },
     "execution_count": 25,
     "metadata": {},
     "output_type": "execute_result"
    }
   ],
   "source": [
    "weighted_edgelist.sample(5, random_state=42)"
   ]
  },
  {
   "cell_type": "code",
   "execution_count": 22,
   "id": "58024aeb",
   "metadata": {},
   "outputs": [],
   "source": [
    "# reformat weighted edgelist to 3-tuples\n",
    "edgelist = list(zip(weighted_edgelist.author, weighted_edgelist.parent_author, weighted_edgelist.weight))\n",
    "\n",
    "# construct graph\n",
    "ClimateGraph = nx.DiGraph()\n",
    "ClimateGraph.add_weighted_edges_from(edgelist)"
   ]
  },
  {
   "cell_type": "code",
   "execution_count": 26,
   "id": "40a56cb9",
   "metadata": {},
   "outputs": [
    {
     "data": {
      "text/plain": [
       "{'weight': 1}"
      ]
     },
     "execution_count": 26,
     "metadata": {},
     "output_type": "execute_result"
    }
   ],
   "source": [
    "# get weight of edge of first link\n",
    "ClimateGraph.get_edge_data('VeggiesForThought', 'FirmFarmer')"
   ]
  },
  {
   "cell_type": "markdown",
   "id": "931deb60",
   "metadata": {},
   "source": [
    "## 6) Add node attributes to ClimateGraph"
   ]
  },
  {
   "cell_type": "code",
   "execution_count": 28,
   "id": "05df161b",
   "metadata": {},
   "outputs": [
    {
     "data": {
      "application/vnd.jupyter.widget-view+json": {
       "model_id": "f5608baf9759498faea861b4f1979b1d",
       "version_major": 2,
       "version_minor": 0
      },
      "text/plain": [
       "  0%|          | 0/346273 [00:00<?, ?it/s]"
      ]
     },
     "metadata": {},
     "output_type": "display_data"
    }
   ],
   "source": [
    "for redditor in tqdm(author.index):\n",
    "    meta = {redditor: author.loc[redditor].to_dict()}\n",
    "    nx.set_node_attributes(ClimateGraph, meta)"
   ]
  },
  {
   "cell_type": "code",
   "execution_count": 39,
   "id": "77a3f188",
   "metadata": {},
   "outputs": [
    {
     "data": {
      "text/plain": [
       "{'text': \"I've been vegetarian for 10 years and have switched over to being vegan in light of a lot of the information coming out about just how fucking awful animal agriculture is for the earth. I truly didn't realize how unsustainable it was, and once I found out, I made the switch. Plus, dairy wrecks my skin (and my stomach) and I didn't care for eggs much anyway, and a lot of the foods I ate were already vegan. It really wasn't very hard at all.  I mean, but...\\n\\nCorporations exist to make a profit. If people strive toward eating less animal products (or ideally, none at all), then demand would fall, lessening the need to produce so many animals for animal agriculture. This would help with emissions (of which CO2 is just one- methane from cows is arguably worse). Shoot, look what's happening with dairy in the US- and it is a heavily-subsidised industry here!\\n\\n&amp;#x200B;\\n\\nYeah, corporations and government do more harm than an individual person- but each individual person can help make a difference in their small corner of the world. That's the attitude I take. People doom and gloom and throw their hands up, thinking that nothing they ever do will matter. But that's not true. Every single person can make a small difference in their part of the world, and if enough of us work together and do our best to improve things- I think things can be a lot better than they are now.\\n\\n&amp;#x200B;\\n\\nDo you refuse to vote, too?\",\n",
       " 'all_awardings': [],\n",
       " 'total_awards_received': 0,\n",
       " 'score': 50,\n",
       " 'first_comment': 1539561600000,\n",
       " 'last_comment': 1539648000000,\n",
       " 'first_submission': nan,\n",
       " 'last_submission': nan,\n",
       " 'num_comments': 2,\n",
       " 'num_submissions': nan,\n",
       " 'comment_controversiality': 0,\n",
       " 'tokens': {'i': 9,\n",
       "  'vegetarian': 1,\n",
       "  'year': 1,\n",
       "  'switch': 2,\n",
       "  'vegan': 2,\n",
       "  'light': 1,\n",
       "  'lot': 3,\n",
       "  'inform': 1,\n",
       "  'come': 1,\n",
       "  'fuck': 1,\n",
       "  'aw': 1,\n",
       "  'anim': 4,\n",
       "  'agricultur': 2,\n",
       "  'earth': 1,\n",
       "  'truli': 1,\n",
       "  'realiz': 1,\n",
       "  'unsustain': 1,\n",
       "  'wa': 2,\n",
       "  'onc': 1,\n",
       "  'found': 1,\n",
       "  'made': 1,\n",
       "  'plu': 1,\n",
       "  'dairi': 2,\n",
       "  'wreck': 1,\n",
       "  'skin': 1,\n",
       "  'stomach': 1,\n",
       "  'care': 1,\n",
       "  'egg': 1,\n",
       "  'much': 1,\n",
       "  'anyway': 1,\n",
       "  'food': 1,\n",
       "  'ate': 1,\n",
       "  'alreadi': 1,\n",
       "  'it': 1,\n",
       "  'realli': 1,\n",
       "  'veri': 1,\n",
       "  'hard': 1,\n",
       "  'mean': 1,\n",
       "  'corpor': 2,\n",
       "  'exist': 1,\n",
       "  'make': 3,\n",
       "  'profit': 1,\n",
       "  'if': 1,\n",
       "  'peopl': 2,\n",
       "  'strive': 1,\n",
       "  'toward': 1,\n",
       "  'eat': 1,\n",
       "  'less': 1,\n",
       "  'product': 1,\n",
       "  'ideal': 1,\n",
       "  'none': 1,\n",
       "  'demand': 1,\n",
       "  'would': 2,\n",
       "  'fall': 1,\n",
       "  'lessen': 1,\n",
       "  'need': 1,\n",
       "  'produc': 1,\n",
       "  'mani': 1,\n",
       "  'thi': 1,\n",
       "  'help': 2,\n",
       "  'emiss': 1,\n",
       "  'methan': 1,\n",
       "  'cow': 1,\n",
       "  'arguabl': 1,\n",
       "  'wors': 1,\n",
       "  'shoot': 1,\n",
       "  'look': 1,\n",
       "  'happen': 1,\n",
       "  'industri': 1,\n",
       "  'amp': 2,\n",
       "  'yeah': 1,\n",
       "  'govern': 1,\n",
       "  'harm': 1,\n",
       "  'individu': 2,\n",
       "  'person': 2,\n",
       "  'differ': 2,\n",
       "  'small': 2,\n",
       "  'corner': 1,\n",
       "  'world': 2,\n",
       "  'attitud': 1,\n",
       "  'take': 1,\n",
       "  'doom': 1,\n",
       "  'gloom': 1,\n",
       "  'throw': 1,\n",
       "  'hand': 1,\n",
       "  'think': 2,\n",
       "  'noth': 1,\n",
       "  'ever': 1,\n",
       "  'matter': 1,\n",
       "  'true': 1,\n",
       "  'everi': 1,\n",
       "  'singl': 1,\n",
       "  'part': 1,\n",
       "  'enough': 1,\n",
       "  'us': 1,\n",
       "  'work': 1,\n",
       "  'togeth': 1,\n",
       "  'best': 1,\n",
       "  'improv': 1,\n",
       "  'thing': 1,\n",
       "  'better': 1,\n",
       "  'do': 1,\n",
       "  'refus': 1,\n",
       "  'vote': 1},\n",
       " 'processed_text': 'i vegetarian year switch vegan light lot inform come fuck aw anim agricultur earth truli realiz unsustain wa onc found made plu dairi wreck skin stomach care egg much anyway food ate alreadi it realli veri hard mean corpor exist make profit if peopl strive toward eat less product ideal none demand would fall lessen need produc mani thi help emiss methan cow arguabl wors shoot look happen industri amp yeah govern harm individu person differ small corner world attitud take doom gloom throw hand think noth ever matter true everi singl part enough us work togeth best improv thing better do refus vote',\n",
       " 'opinion': 'Neutral'}"
      ]
     },
     "execution_count": 39,
     "metadata": {},
     "output_type": "execute_result"
    }
   ],
   "source": [
    "ClimateGraph.nodes['FirmFarmer']"
   ]
  },
  {
   "cell_type": "markdown",
   "id": "72736157",
   "metadata": {},
   "source": [
    "## 5) Save ClimateGraph"
   ]
  },
  {
   "cell_type": "code",
   "execution_count": 59,
   "id": "f697291a",
   "metadata": {},
   "outputs": [],
   "source": [
    "# save graph as json\n",
    "from networkx.readwrite import json_graph\n",
    "import json\n",
    "\n",
    "# specify save location\n",
    "filename = DATA_DIR / 'ClimateGraph_concatenedOpinion.json.bz2'\n",
    "data = json_graph.node_link_data(ClimateGraph)"
   ]
  },
  {
   "cell_type": "code",
   "execution_count": 55,
   "id": "df3f9665",
   "metadata": {},
   "outputs": [],
   "source": [
    "import bz2\n",
    "\n",
    "# write as a json-zip\n",
    "with gzip.open(filename, 'wt', encoding=\"utf-8\") as zipfile:\n",
    "    json.dump(data, zipfile)"
   ]
  },
  {
   "cell_type": "code",
   "execution_count": null,
   "id": "50e01c0b",
   "metadata": {},
   "outputs": [],
   "source": []
  },
  {
   "cell_type": "markdown",
   "id": "7a10ac79",
   "metadata": {},
   "source": [
    "## 6) Preliminary data analysis"
   ]
  },
  {
   "cell_type": "code",
   "execution_count": 61,
   "id": "785dfcc3",
   "metadata": {},
   "outputs": [
    {
     "data": {
      "text/plain": [
       "719220"
      ]
     },
     "execution_count": 61,
     "metadata": {},
     "output_type": "execute_result"
    }
   ],
   "source": [
    "ClimateGraph.number_of_edges()"
   ]
  },
  {
   "cell_type": "code",
   "execution_count": 62,
   "id": "10378aad",
   "metadata": {},
   "outputs": [
    {
     "data": {
      "text/plain": [
       "359252"
      ]
     },
     "execution_count": 62,
     "metadata": {},
     "output_type": "execute_result"
    }
   ],
   "source": [
    "ClimateGraph.number_of_nodes()"
   ]
  },
  {
   "cell_type": "code",
   "execution_count": 75,
   "id": "292559ea",
   "metadata": {},
   "outputs": [
    {
     "data": {
      "text/plain": [
       "(572747, 12)"
      ]
     },
     "execution_count": 75,
     "metadata": {},
     "output_type": "execute_result"
    }
   ],
   "source": [
    "submissions.shape"
   ]
  },
  {
   "cell_type": "code",
   "execution_count": 67,
   "id": "55aaf357",
   "metadata": {},
   "outputs": [
    {
     "data": {
      "text/plain": [
       "15406"
      ]
     },
     "execution_count": 67,
     "metadata": {},
     "output_type": "execute_result"
    }
   ],
   "source": [
    "submissions.__len__() - filtered_submissions.__len__()"
   ]
  },
  {
   "cell_type": "code",
   "execution_count": 76,
   "id": "b54ef12d",
   "metadata": {},
   "outputs": [
    {
     "data": {
      "text/plain": [
       "(1006119, 12)"
      ]
     },
     "execution_count": 76,
     "metadata": {},
     "output_type": "execute_result"
    }
   ],
   "source": [
    "comments.shape"
   ]
  },
  {
   "cell_type": "code",
   "execution_count": 69,
   "id": "d2192ad5",
   "metadata": {},
   "outputs": [
    {
     "data": {
      "text/plain": [
       "93413"
      ]
     },
     "execution_count": 69,
     "metadata": {},
     "output_type": "execute_result"
    }
   ],
   "source": [
    "comments.__len__() - filtered_comments.__len__()"
   ]
  },
  {
   "cell_type": "code",
   "execution_count": null,
   "id": "e352c0cf",
   "metadata": {},
   "outputs": [],
   "source": []
  },
  {
   "cell_type": "code",
   "execution_count": null,
   "id": "ac945db0",
   "metadata": {},
   "outputs": [],
   "source": []
  },
  {
   "cell_type": "code",
   "execution_count": 83,
   "id": "180328a1",
   "metadata": {},
   "outputs": [],
   "source": [
    "# define plotting function\n",
    "def LogAndLinearHist(data, xlabel='', figsize=((8,3)), dpi=100):\n",
    "    min_val, max_val = (min(data), max(data))\n",
    "    \n",
    "    # compute bins\n",
    "    log_bins = np.logspace(min_val if min_val == 0 else np.log10(min_val), np.log10(max_val), 101)\n",
    "    lin_bins = np.linspace(min_val, max_val, 101)\n",
    "\n",
    "    # create histogram values\n",
    "    hist_log, edges_log = np.histogram(data.values, log_bins, density=True)\n",
    "    hist_lin, edges_lin = np.histogram(data.values, lin_bins)\n",
    "\n",
    "    # determine x-values\n",
    "    log_x = (edges_log[1:] + edges_log[:-1]) / 2.\n",
    "    lin_x = (edges_lin[1:] + edges_lin[:-1]) / 2.\n",
    "\n",
    "    xx, yy = zip(*[(i,j) for (i,j) in zip(log_x, hist_log) if j > 0])\n",
    "    \n",
    "    # plot figure\n",
    "    fig, ax = plt.subplots(nrows=1, ncols=2, figsize=figsize, dpi=dpi)\n",
    "\n",
    "    # linear scale plot\n",
    "    ax[0].plot(lin_x, hist_lin, marker='.', alpha=0.5)\n",
    "    ax[0].set_xlabel(xlabel)\n",
    "    ax[0].set_ylabel('count')\n",
    "    ax[0].set_title('linear scale')\n",
    "    #ax[0].legend()\n",
    "\n",
    "    # log-log scale plot\n",
    "    ax[1].plot(xx, yy, marker='.', alpha=0.5)\n",
    "    ax[1].set_yscale('log')\n",
    "    ax[1].set_xscale('log')\n",
    "    ax[1].set_xlabel(xlabel)\n",
    "    ax[1].set_ylabel('probability density')\n",
    "    ax[1].set_title('log-log scale')\n",
    "    #ax[1].legend()\n",
    "\n",
    "    # show figure\n",
    "    plt.tight_layout()\n",
    "    plt.show()"
   ]
  },
  {
   "cell_type": "code",
   "execution_count": 90,
   "id": "b6da274e",
   "metadata": {},
   "outputs": [],
   "source": [
    "in_degree = pd.Series(np.array(list(zip(*ClimateGraph.in_degree())))[1].astype('int'))\n",
    "out_degree = pd.Series(np.array(list(zip(*ClimateGraph.out_degree())))[1].astype('int'))\n",
    "\n",
    "degree = pd.Series(np.array(list(zip(*ClimateGraph.degree())))[1].astype('int'))"
   ]
  },
  {
   "cell_type": "code",
   "execution_count": 91,
   "id": "e19491bc",
   "metadata": {},
   "outputs": [
    {
     "data": {
      "image/png": "[encoded data removed]",
      "text/plain": [
       "<Figure size 800x300 with 2 Axes>"
      ]
     },
     "metadata": {
      "needs_background": "light"
     },
     "output_type": "display_data"
    }
   ],
   "source": [
    "LogAndLinearHist(in_degree, xlabel='in-degree')"
   ]
  },
  {
   "cell_type": "code",
   "execution_count": 92,
   "id": "258c41fa",
   "metadata": {},
   "outputs": [
    {
     "data": {
      "image/png": "[encoded data removed]",
      "text/plain": [
       "<Figure size 800x300 with 2 Axes>"
      ]
     },
     "metadata": {
      "needs_background": "light"
     },
     "output_type": "display_data"
    }
   ],
   "source": [
    "LogAndLinearHist(out_degree, xlabel='out-degree')"
   ]
  },
  {
   "cell_type": "code",
   "execution_count": 93,
   "id": "502dbac9",
   "metadata": {},
   "outputs": [
    {
     "data": {
      "image/png": "[encoded data removed]",
      "text/plain": [
       "<Figure size 800x300 with 2 Axes>"
      ]
     },
     "metadata": {
      "needs_background": "light"
     },
     "output_type": "display_data"
    }
   ],
   "source": [
    "LogAndLinearHist(degree, xlabel='degree')"
   ]
  },
  {
   "cell_type": "code",
   "execution_count": 96,
   "id": "f61bb0c7",
   "metadata": {},
   "outputs": [],
   "source": [
    "temp = pd.DataFrame([in_degree, out_degree, degree], index=['in-degree', 'out-degree', 'degree']).T"
   ]
  },
  {
   "cell_type": "code",
   "execution_count": 98,
   "id": "da55126b",
   "metadata": {},
   "outputs": [
    {
     "data": {
      "text/html": [
       "<div>\n",
       "<style scoped>\n",
       "    .dataframe tbody tr th:only-of-type {\n",
       "        vertical-align: middle;\n",
       "    }\n",
       "\n",
       "    .dataframe tbody tr th {\n",
       "        vertical-align: top;\n",
       "    }\n",
       "\n",
       "    .dataframe thead th {\n",
       "        text-align: right;\n",
       "    }\n",
       "</style>\n",
       "<table border=\"1\" class=\"dataframe\">\n",
       "  <thead>\n",
       "    <tr style=\"text-align: right;\">\n",
       "      <th></th>\n",
       "      <th>in-degree</th>\n",
       "      <th>out-degree</th>\n",
       "      <th>degree</th>\n",
       "    </tr>\n",
       "  </thead>\n",
       "  <tbody>\n",
       "    <tr>\n",
       "      <th>count</th>\n",
       "      <td>359252.000000</td>\n",
       "      <td>359252.000000</td>\n",
       "      <td>359252.000000</td>\n",
       "    </tr>\n",
       "    <tr>\n",
       "      <th>mean</th>\n",
       "      <td>2.001993</td>\n",
       "      <td>2.001993</td>\n",
       "      <td>4.003986</td>\n",
       "    </tr>\n",
       "    <tr>\n",
       "      <th>std</th>\n",
       "      <td>14.013937</td>\n",
       "      <td>11.068325</td>\n",
       "      <td>19.140409</td>\n",
       "    </tr>\n",
       "    <tr>\n",
       "      <th>min</th>\n",
       "      <td>0.000000</td>\n",
       "      <td>0.000000</td>\n",
       "      <td>1.000000</td>\n",
       "    </tr>\n",
       "    <tr>\n",
       "      <th>25%</th>\n",
       "      <td>0.000000</td>\n",
       "      <td>1.000000</td>\n",
       "      <td>1.000000</td>\n",
       "    </tr>\n",
       "    <tr>\n",
       "      <th>50%</th>\n",
       "      <td>1.000000</td>\n",
       "      <td>1.000000</td>\n",
       "      <td>2.000000</td>\n",
       "    </tr>\n",
       "    <tr>\n",
       "      <th>75%</th>\n",
       "      <td>2.000000</td>\n",
       "      <td>2.000000</td>\n",
       "      <td>4.000000</td>\n",
       "    </tr>\n",
       "    <tr>\n",
       "      <th>max</th>\n",
       "      <td>3161.000000</td>\n",
       "      <td>6186.000000</td>\n",
       "      <td>6544.000000</td>\n",
       "    </tr>\n",
       "  </tbody>\n",
       "</table>\n",
       "</div>"
      ],
      "text/plain": [
       "           in-degree     out-degree         degree\n",
       "count  359252.000000  359252.000000  359252.000000\n",
       "mean        2.001993       2.001993       4.003986\n",
       "std        14.013937      11.068325      19.140409\n",
       "min         0.000000       0.000000       1.000000\n",
       "25%         0.000000       1.000000       1.000000\n",
       "50%         1.000000       1.000000       2.000000\n",
       "75%         2.000000       2.000000       4.000000\n",
       "max      3161.000000    6186.000000    6544.000000"
      ]
     },
     "execution_count": 98,
     "metadata": {},
     "output_type": "execute_result"
    }
   ],
   "source": [
    "temp.describe()"
   ]
  },
  {
   "cell_type": "code",
   "execution_count": null,
   "id": "ebe139e5",
   "metadata": {},
   "outputs": [],
   "source": []
  }
 ],
 "metadata": {
  "kernelspec": {
   "display_name": "Python 3 (ipykernel)",
   "language": "python",
   "name": "python3"
  },
  "language_info": {
   "codemirror_mode": {
    "name": "ipython",
    "version": 3
   },
   "file_extension": ".py",
   "mimetype": "text/x-python",
   "name": "python",
   "nbconvert_exporter": "python",
   "pygments_lexer": "ipython3",
   "version": "3.8.12"
  }
 },
 "nbformat": 4,
 "nbformat_minor": 5
}
