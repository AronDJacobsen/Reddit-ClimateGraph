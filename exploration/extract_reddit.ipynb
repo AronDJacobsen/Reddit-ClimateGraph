{
 "cells": [
  {
   "cell_type": "markdown",
   "id": "55fb96ba",
   "metadata": {},
   "source": [
    "# Extracting the Reddit data of Climate Discussion Contributors \n",
    "\n",
    "Calling the PushshiftAPI with queries related to climate change opinion, we extract data from Reddit submissions and comments."
   ]
  },
  {
   "cell_type": "code",
   "execution_count": 1,
   "id": "48df5935",
   "metadata": {},
   "outputs": [],
   "source": [
    "import os\n",
    "from pathlib import Path\n",
    "import datetime\n",
    "\n",
    "import numpy as np\n",
    "import pandas as pd\n",
    "from tqdm.notebook import tqdm\n",
    "tqdm.pandas()\n",
    "\n",
    "from psaw import PushshiftAPI\n",
    "import matplotlib.pyplot as plt\n",
    "\n",
    "import warnings\n",
    "warnings.simplefilter(\"ignore\", UserWarning)"
   ]
  },
  {
   "cell_type": "markdown",
   "id": "38149fb2",
   "metadata": {},
   "source": [
    "## 1) Call Reddit API (PushshiftAPI)\n",
    "\n",
    "For finding the data for our network, we will call the PushshiftAPI in order to obtain data from reddit submissions and comments."
   ]
  },
  {
   "cell_type": "code",
   "execution_count": 2,
   "id": "0f5293cc",
   "metadata": {},
   "outputs": [],
   "source": [
    "api = PushshiftAPI()"
   ]
  },
  {
   "cell_type": "markdown",
   "id": "8d963bad",
   "metadata": {},
   "source": [
    "### 1.1) Retrieving Reddit submissions\n",
    "Since we use the Twitter Climate Sentiment dataset ([link1](https://github.com/edwardcqian/climate_change_sentiment) and [link2](https://www.kaggle.com/datasets/edqian/twitter-climate-change-sentiment-dataset) for training a sentiment classification model, we will make use of the same queries as they used for collecting that dataset."
   ]
  },
  {
   "cell_type": "code",
   "execution_count": 3,
   "id": "e949e635",
   "metadata": {},
   "outputs": [],
   "source": [
    "# define search conditions\n",
    "queries = ['climate change  climate',\n",
    "           'global warming  climate',\n",
    "           'warming planet  climate']\n",
    " \n",
    "# define time interval\n",
    "start_date = int(datetime.datetime(2014, 11, 1).timestamp())\n",
    "end_date = int(datetime.datetime(2022, 4, 5).timestamp())\n",
    "\n",
    "# parameters to modify extend of data retrieval\n",
    "limit = 250\n",
    "num_intervals = 10848"
   ]
  },
  {
   "cell_type": "markdown",
   "id": "d28ed661",
   "metadata": {},
   "source": [
    "We specify the attributes that we want to keep for further analyses and continuously create a dataframe where duplicate rows are removed when all queries have been queried since there is potentially quite a lot of overlap in the context of the queries as they are all related to climate change."
   ]
  },
  {
   "cell_type": "code",
   "execution_count": 4,
   "id": "f106e2aa",
   "metadata": {},
   "outputs": [],
   "source": [
    "def select_attributes(attributes, results):\n",
    "    temp = []\n",
    "    for my_submission in results:\n",
    "        temp_dict = {}\n",
    "        for att in attributes:\n",
    "            try:\n",
    "                temp_dict[att] = my_submission.d_[att]\n",
    "            except KeyError:\n",
    "                temp_dict[att] = np.nan\n",
    "        temp.append(temp_dict)\n",
    "    return temp"
   ]
  },
  {
   "cell_type": "code",
   "execution_count": 5,
   "id": "c0d52c6b",
   "metadata": {},
   "outputs": [
    {
     "data": {
      "application/vnd.jupyter.widget-view+json": {
       "model_id": "07717bac58174e0289554bc05589f757",
       "version_major": 2,
       "version_minor": 0
      },
      "text/plain": [
       "  0%|          | 0/4 [00:00<?, ?it/s]"
      ]
     },
     "metadata": {},
     "output_type": "display_data"
    },
    {
     "name": "stdout",
     "output_type": "stream",
     "text": [
      "Limit exceeded at index (1, 0)\n",
      "Limit exceeded at index (1, 1)\n",
      "Limit exceeded at index (1, 2)\n",
      "Limit exceeded at index (2, 0)\n",
      "Limit exceeded at index (2, 1)\n",
      "Limit exceeded at index (2, 2)\n",
      "Limit exceeded at index (3, 0)\n",
      "Limit exceeded at index (3, 1)\n",
      "Limit exceeded at index (3, 2)\n",
      "Limit exceeded at index (4, 0)\n",
      "Limit exceeded at index (4, 1)\n",
      "Limit exceeded at index (4, 2)\n"
     ]
    }
   ],
   "source": [
    "# specify attributes of interest\n",
    "attributes = ['id', 'author', 'title', 'selftext', 'score', 'created_utc', 'subreddit', 'num_comments', 'all_awardings', 'awarders', 'total_awards_received']\n",
    "df_submissions = pd.DataFrame()\n",
    "\n",
    "# search API for submissions\n",
    "date_linspace = np.linspace(start_date, end_date, num_intervals, dtype=np.int64)\n",
    "\n",
    "for i in tqdm(range(1, date_linspace.__len__())):\n",
    "    # define parameters\n",
    "    date1 = date_linspace[i-1]\n",
    "    date2 = date_linspace[i]\n",
    "    results = []\n",
    "\n",
    "    # query all queries\n",
    "    for j, query in enumerate(queries):\n",
    "        gen = api.search_submissions(after=date1,\n",
    "                                     before=date2,\n",
    "                                     q=query,\n",
    "                                     limit=limit)\n",
    "        temp_results = list(gen)\n",
    "        results += temp_results\n",
    "        \n",
    "        if temp_results.__len__() == limit:\n",
    "            print(f\"Limit exceeded at index {i, j}\")\n",
    "    \n",
    "    # create structure for dataframe (nested loop because 2014 data does not have awards)\n",
    "    sub4df = select_attributes(attributes, results)\n",
    "    \n",
    "    # create dataframe continuously\n",
    "    temp_df = pd.DataFrame.from_dict(sub4df)\n",
    "    df_submissions = pd.concat([df_submissions, temp_df])\n",
    "    \n",
    "    # drop the duplicated ids\n",
    "    df_submissions = df_submissions.drop_duplicates('id', keep='first')\n",
    "\n",
    "# reset index    \n",
    "df_submissions = df_submissions.reset_index(drop=True)"
   ]
  },
  {
   "cell_type": "code",
   "execution_count": 6,
   "id": "7b88d8f9",
   "metadata": {},
   "outputs": [
    {
     "name": "stdout",
     "output_type": "stream",
     "text": [
      "Are all duplicates removed? True\n"
     ]
    }
   ],
   "source": [
    "print(f\"Are all duplicates removed? {df_submissions.id.is_unique}\")"
   ]
  },
  {
   "cell_type": "markdown",
   "id": "5c98e2fe",
   "metadata": {},
   "source": [
    "All duplicates are gone - nice!\n",
    "\n",
    "Let's continue by modifying the dataframe a little bit and obtain the date."
   ]
  },
  {
   "cell_type": "code",
   "execution_count": 7,
   "id": "836de81b",
   "metadata": {},
   "outputs": [
    {
     "name": "stdout",
     "output_type": "stream",
     "text": [
      "Shape of dataframe: (114, 11)\n"
     ]
    },
    {
     "data": {
      "text/html": [
       "<div>\n",
       "<style scoped>\n",
       "    .dataframe tbody tr th:only-of-type {\n",
       "        vertical-align: middle;\n",
       "    }\n",
       "\n",
       "    .dataframe tbody tr th {\n",
       "        vertical-align: top;\n",
       "    }\n",
       "\n",
       "    .dataframe thead th {\n",
       "        text-align: right;\n",
       "    }\n",
       "</style>\n",
       "<table border=\"1\" class=\"dataframe\">\n",
       "  <thead>\n",
       "    <tr style=\"text-align: right;\">\n",
       "      <th></th>\n",
       "      <th>id</th>\n",
       "      <th>author</th>\n",
       "      <th>title</th>\n",
       "      <th>selftext</th>\n",
       "      <th>score</th>\n",
       "      <th>subreddit</th>\n",
       "      <th>num_comments</th>\n",
       "      <th>all_awardings</th>\n",
       "      <th>awarders</th>\n",
       "      <th>total_awards_received</th>\n",
       "      <th>date</th>\n",
       "    </tr>\n",
       "  </thead>\n",
       "  <tbody>\n",
       "    <tr>\n",
       "      <th>0</th>\n",
       "      <td>51u2py</td>\n",
       "      <td>[deleted]</td>\n",
       "      <td>Obama on Climate Change: The Trends Are ‘Terri...</td>\n",
       "      <td>[deleted]</td>\n",
       "      <td>0</td>\n",
       "      <td>politics</td>\n",
       "      <td>1</td>\n",
       "      <td>NaN</td>\n",
       "      <td>NaN</td>\n",
       "      <td>NaN</td>\n",
       "      <td>2016-09-08</td>\n",
       "    </tr>\n",
       "    <tr>\n",
       "      <th>1</th>\n",
       "      <td>51u0nm</td>\n",
       "      <td>m2b2</td>\n",
       "      <td>Few months ago I watched a video about climate...</td>\n",
       "      <td></td>\n",
       "      <td>0</td>\n",
       "      <td>AskReddit</td>\n",
       "      <td>2</td>\n",
       "      <td>NaN</td>\n",
       "      <td>NaN</td>\n",
       "      <td>NaN</td>\n",
       "      <td>2016-09-08</td>\n",
       "    </tr>\n",
       "    <tr>\n",
       "      <th>2</th>\n",
       "      <td>51u0ln</td>\n",
       "      <td>ell_computer</td>\n",
       "      <td>California Just Took a Huge Step in the Fight ...</td>\n",
       "      <td></td>\n",
       "      <td>1</td>\n",
       "      <td>news_etc</td>\n",
       "      <td>0</td>\n",
       "      <td>NaN</td>\n",
       "      <td>NaN</td>\n",
       "      <td>NaN</td>\n",
       "      <td>2016-09-08</td>\n",
       "    </tr>\n",
       "    <tr>\n",
       "      <th>3</th>\n",
       "      <td>51tsvn</td>\n",
       "      <td>feelinglikeasir</td>\n",
       "      <td>Climate Change Solution?</td>\n",
       "      <td>What if we dug out large artificial rivers run...</td>\n",
       "      <td>4</td>\n",
       "      <td>climatechange</td>\n",
       "      <td>13</td>\n",
       "      <td>NaN</td>\n",
       "      <td>NaN</td>\n",
       "      <td>NaN</td>\n",
       "      <td>2016-09-08</td>\n",
       "    </tr>\n",
       "    <tr>\n",
       "      <th>4</th>\n",
       "      <td>51tofi</td>\n",
       "      <td>ell_computer</td>\n",
       "      <td>Obama on 'Terrifying' Threat of Climate Change</td>\n",
       "      <td></td>\n",
       "      <td>1</td>\n",
       "      <td>news_etc</td>\n",
       "      <td>0</td>\n",
       "      <td>NaN</td>\n",
       "      <td>NaN</td>\n",
       "      <td>NaN</td>\n",
       "      <td>2016-09-08</td>\n",
       "    </tr>\n",
       "  </tbody>\n",
       "</table>\n",
       "</div>"
      ],
      "text/plain": [
       "       id           author                                              title  \\\n",
       "0  51u2py        [deleted]  Obama on Climate Change: The Trends Are ‘Terri...   \n",
       "1  51u0nm             m2b2  Few months ago I watched a video about climate...   \n",
       "2  51u0ln     ell_computer  California Just Took a Huge Step in the Fight ...   \n",
       "3  51tsvn  feelinglikeasir                           Climate Change Solution?   \n",
       "4  51tofi     ell_computer     Obama on 'Terrifying' Threat of Climate Change   \n",
       "\n",
       "                                            selftext  score      subreddit  \\\n",
       "0                                          [deleted]      0       politics   \n",
       "1                                                         0      AskReddit   \n",
       "2                                                         1       news_etc   \n",
       "3  What if we dug out large artificial rivers run...      4  climatechange   \n",
       "4                                                         1       news_etc   \n",
       "\n",
       "   num_comments all_awardings awarders  total_awards_received        date  \n",
       "0             1           NaN      NaN                    NaN  2016-09-08  \n",
       "1             2           NaN      NaN                    NaN  2016-09-08  \n",
       "2             0           NaN      NaN                    NaN  2016-09-08  \n",
       "3            13           NaN      NaN                    NaN  2016-09-08  \n",
       "4             0           NaN      NaN                    NaN  2016-09-08  "
      ]
     },
     "execution_count": 7,
     "metadata": {},
     "output_type": "execute_result"
    }
   ],
   "source": [
    "# modify dataframe\n",
    "df_submissions['date'] = df_submissions['created_utc'].apply(lambda x: datetime.datetime.utcfromtimestamp(x).date())\n",
    "df_submissions = df_submissions.drop('created_utc', axis=1)\n",
    "\n",
    "print(f\"Shape of dataframe: {df_submissions.shape}\")\n",
    "df_submissions.head()"
   ]
  },
  {
   "cell_type": "code",
   "execution_count": 8,
   "id": "5d28529a",
   "metadata": {},
   "outputs": [],
   "source": [
    "# save dataframe as a pickle\n",
    "path = Path(os.getcwd()).parent\n",
    "df_submissions.to_pickle(path / 'data/reddit_submissions.bz2')"
   ]
  },
  {
   "cell_type": "markdown",
   "id": "4006df21",
   "metadata": {},
   "source": [
    "### 1.2) Retrieving Reddit comments\n",
    "\n",
    "Based on the submissions that we extracted in 1.1, we will now extract Reddit comments. This is done similarly using functions from the `PushshiftAPI`-module."
   ]
  },
  {
   "cell_type": "code",
   "execution_count": 9,
   "id": "ed562ede",
   "metadata": {},
   "outputs": [
    {
     "data": {
      "application/vnd.jupyter.widget-view+json": {
       "model_id": "516c2a159b954efaa770e9d4a293c703",
       "version_major": 2,
       "version_minor": 0
      },
      "text/plain": [
       "  0%|          | 0/114 [00:00<?, ?it/s]"
      ]
     },
     "metadata": {},
     "output_type": "display_data"
    }
   ],
   "source": [
    "# search API for comments\n",
    "results = []\n",
    "limit = 25 \n",
    "\n",
    "for i, submission in tqdm(df_submissions.iterrows(), total=df_submissions.__len__()):\n",
    "    gen = api.search_comments(subreddit=submission.subreddit,\n",
    "                              link_id=submission.id, \n",
    "                              size=limit)\n",
    "    temp_results = list(gen)\n",
    "    results += temp_results\n",
    "    \n",
    "    if temp_results.__len__() == limit:\n",
    "        print(f\"Limit exceeded at index {idx}\")"
   ]
  },
  {
   "cell_type": "markdown",
   "id": "f4f27b27",
   "metadata": {},
   "source": [
    "We are only interested in keeping some of the information associated to a comment on Reddit. This is extracted and turned into a DataFrame below."
   ]
  },
  {
   "cell_type": "code",
   "execution_count": 10,
   "id": "4acf1bbb",
   "metadata": {},
   "outputs": [],
   "source": [
    "# specify attributes of interest\n",
    "attributes = ['id', 'link_id', 'score', 'created_utc', 'author', 'parent_id', 'body', 'controversiality', 'total_awards_received', 'all_awardings', 'associated_award']\n",
    "\n",
    "# create dataframe\n",
    "sub4df = select_attributes(attributes, results)\n",
    "df_comments = pd.DataFrame.from_dict(sub4df)"
   ]
  },
  {
   "cell_type": "code",
   "execution_count": 11,
   "id": "4be1fa49",
   "metadata": {},
   "outputs": [
    {
     "name": "stdout",
     "output_type": "stream",
     "text": [
      "Shape of dataframe: (1526, 11)\n"
     ]
    },
    {
     "data": {
      "text/html": [
       "<div>\n",
       "<style scoped>\n",
       "    .dataframe tbody tr th:only-of-type {\n",
       "        vertical-align: middle;\n",
       "    }\n",
       "\n",
       "    .dataframe tbody tr th {\n",
       "        vertical-align: top;\n",
       "    }\n",
       "\n",
       "    .dataframe thead th {\n",
       "        text-align: right;\n",
       "    }\n",
       "</style>\n",
       "<table border=\"1\" class=\"dataframe\">\n",
       "  <thead>\n",
       "    <tr style=\"text-align: right;\">\n",
       "      <th></th>\n",
       "      <th>id</th>\n",
       "      <th>submission_id</th>\n",
       "      <th>score</th>\n",
       "      <th>author</th>\n",
       "      <th>parent_id</th>\n",
       "      <th>text</th>\n",
       "      <th>controversiality</th>\n",
       "      <th>total_awards_received</th>\n",
       "      <th>all_awardings</th>\n",
       "      <th>associated_award</th>\n",
       "      <th>date</th>\n",
       "    </tr>\n",
       "  </thead>\n",
       "  <tbody>\n",
       "    <tr>\n",
       "      <th>0</th>\n",
       "      <td>d7mss1j</td>\n",
       "      <td>t3_51tsvn</td>\n",
       "      <td>1</td>\n",
       "      <td>fishsticks40</td>\n",
       "      <td>t1_d7fadvs</td>\n",
       "      <td>&amp;gt; It is not about whether or not the planet...</td>\n",
       "      <td>0.0</td>\n",
       "      <td>NaN</td>\n",
       "      <td>NaN</td>\n",
       "      <td>NaN</td>\n",
       "      <td>2016-09-14</td>\n",
       "    </tr>\n",
       "    <tr>\n",
       "      <th>1</th>\n",
       "      <td>d7ftt9d</td>\n",
       "      <td>t3_51tsvn</td>\n",
       "      <td>2</td>\n",
       "      <td>eggplantsforall</td>\n",
       "      <td>t1_d7fadvs</td>\n",
       "      <td>Our secret CO2 teleportation scheme has been d...</td>\n",
       "      <td>0.0</td>\n",
       "      <td>NaN</td>\n",
       "      <td>NaN</td>\n",
       "      <td>NaN</td>\n",
       "      <td>2016-09-09</td>\n",
       "    </tr>\n",
       "    <tr>\n",
       "      <th>2</th>\n",
       "      <td>d7fadvs</td>\n",
       "      <td>t3_51tsvn</td>\n",
       "      <td>0</td>\n",
       "      <td>ILOVEFISHANDCHIPS</td>\n",
       "      <td>t1_d7evpuc</td>\n",
       "      <td>If we manage to teleport CO2 beyond the edge o...</td>\n",
       "      <td>1.0</td>\n",
       "      <td>NaN</td>\n",
       "      <td>NaN</td>\n",
       "      <td>NaN</td>\n",
       "      <td>2016-09-09</td>\n",
       "    </tr>\n",
       "    <tr>\n",
       "      <th>3</th>\n",
       "      <td>d7evpuc</td>\n",
       "      <td>t3_51tsvn</td>\n",
       "      <td>1</td>\n",
       "      <td>feelinglikeasir</td>\n",
       "      <td>t3_51tsvn</td>\n",
       "      <td>Not to mention creation of jobs, infrastructur...</td>\n",
       "      <td>0.0</td>\n",
       "      <td>NaN</td>\n",
       "      <td>NaN</td>\n",
       "      <td>NaN</td>\n",
       "      <td>2016-09-08</td>\n",
       "    </tr>\n",
       "    <tr>\n",
       "      <th>4</th>\n",
       "      <td>d7ev52a</td>\n",
       "      <td>t3_51tsvn</td>\n",
       "      <td>1</td>\n",
       "      <td>mnixxon</td>\n",
       "      <td>t3_51tsvn</td>\n",
       "      <td>This won't work.  The only thing that can stop...</td>\n",
       "      <td>0.0</td>\n",
       "      <td>NaN</td>\n",
       "      <td>NaN</td>\n",
       "      <td>NaN</td>\n",
       "      <td>2016-09-08</td>\n",
       "    </tr>\n",
       "  </tbody>\n",
       "</table>\n",
       "</div>"
      ],
      "text/plain": [
       "        id submission_id  score             author   parent_id  \\\n",
       "0  d7mss1j     t3_51tsvn      1       fishsticks40  t1_d7fadvs   \n",
       "1  d7ftt9d     t3_51tsvn      2    eggplantsforall  t1_d7fadvs   \n",
       "2  d7fadvs     t3_51tsvn      0  ILOVEFISHANDCHIPS  t1_d7evpuc   \n",
       "3  d7evpuc     t3_51tsvn      1    feelinglikeasir   t3_51tsvn   \n",
       "4  d7ev52a     t3_51tsvn      1            mnixxon   t3_51tsvn   \n",
       "\n",
       "                                                text  controversiality  \\\n",
       "0  &gt; It is not about whether or not the planet...               0.0   \n",
       "1  Our secret CO2 teleportation scheme has been d...               0.0   \n",
       "2  If we manage to teleport CO2 beyond the edge o...               1.0   \n",
       "3  Not to mention creation of jobs, infrastructur...               0.0   \n",
       "4  This won't work.  The only thing that can stop...               0.0   \n",
       "\n",
       "   total_awards_received all_awardings  associated_award        date  \n",
       "0                    NaN           NaN               NaN  2016-09-14  \n",
       "1                    NaN           NaN               NaN  2016-09-09  \n",
       "2                    NaN           NaN               NaN  2016-09-09  \n",
       "3                    NaN           NaN               NaN  2016-09-08  \n",
       "4                    NaN           NaN               NaN  2016-09-08  "
      ]
     },
     "execution_count": 11,
     "metadata": {},
     "output_type": "execute_result"
    }
   ],
   "source": [
    "# modify dataframe\n",
    "df_comments.rename(columns={'link_id':'submission_id', 'body':'text'}, inplace=True)\n",
    "df_comments['date'] = df_comments['created_utc'].apply(lambda x: datetime.datetime.utcfromtimestamp(x).date())\n",
    "df_comments = df_comments.drop('created_utc', axis=1)\n",
    "\n",
    "print(f\"Shape of dataframe: {df_comments.shape}\")\n",
    "df_comments.head()"
   ]
  },
  {
   "cell_type": "code",
   "execution_count": 14,
   "id": "d4117ceb",
   "metadata": {},
   "outputs": [],
   "source": [
    "# save dataframe as a pickle\n",
    "path = Path(os.getcwd()).parent\n",
    "df_comments.to_pickle(path / 'data/reddit_comments.bz2')"
   ]
  },
  {
   "cell_type": "markdown",
   "id": "5e796c58",
   "metadata": {},
   "source": [
    "## 2) Analyzing the Reddit data"
   ]
  },
  {
   "cell_type": "markdown",
   "id": "dcc51690",
   "metadata": {},
   "source": [
    "### 2.1) Submissions"
   ]
  },
  {
   "cell_type": "code",
   "execution_count": 15,
   "id": "8551c979",
   "metadata": {},
   "outputs": [
    {
     "data": {
      "image/png": "[encoded data removed]",
      "text/plain": [
       "<Figure size 432x288 with 1 Axes>"
      ]
     },
     "metadata": {
      "needs_background": "light"
     },
     "output_type": "display_data"
    }
   ],
   "source": [
    "# plotting number of submission per day\n",
    "df_submissions.groupby(by='date').size().plot()\n",
    "plt.xticks(rotation=90)\n",
    "plt.ylabel('number of submissions')\n",
    "plt.show()"
   ]
  },
  {
   "cell_type": "code",
   "execution_count": 16,
   "id": "b88aab46",
   "metadata": {},
   "outputs": [
    {
     "name": "stdout",
     "output_type": "stream",
     "text": [
      "Total number of submissions retrieved: 114\n",
      "Number of unique authors in retrieved submissions: 81\n"
     ]
    }
   ],
   "source": [
    "print(f\"Total number of submissions retrieved: {df_submissions.__len__()}\")\n",
    "print(f\"Number of unique authors in retrieved submissions: {df_submissions.author.unique().__len__()}\")"
   ]
  },
  {
   "cell_type": "code",
   "execution_count": 17,
   "id": "70366759",
   "metadata": {},
   "outputs": [
    {
     "data": {
      "text/html": [
       "<div>\n",
       "<style scoped>\n",
       "    .dataframe tbody tr th:only-of-type {\n",
       "        vertical-align: middle;\n",
       "    }\n",
       "\n",
       "    .dataframe tbody tr th {\n",
       "        vertical-align: top;\n",
       "    }\n",
       "\n",
       "    .dataframe thead th {\n",
       "        text-align: right;\n",
       "    }\n",
       "</style>\n",
       "<table border=\"1\" class=\"dataframe\">\n",
       "  <thead>\n",
       "    <tr style=\"text-align: right;\">\n",
       "      <th></th>\n",
       "      <th></th>\n",
       "      <th>num_authors</th>\n",
       "    </tr>\n",
       "    <tr>\n",
       "      <th>year</th>\n",
       "      <th>week</th>\n",
       "      <th></th>\n",
       "    </tr>\n",
       "  </thead>\n",
       "  <tbody>\n",
       "    <tr>\n",
       "      <th rowspan=\"2\" valign=\"top\">2016</th>\n",
       "      <th>35</th>\n",
       "      <td>2</td>\n",
       "    </tr>\n",
       "    <tr>\n",
       "      <th>36</th>\n",
       "      <td>18</td>\n",
       "    </tr>\n",
       "    <tr>\n",
       "      <th rowspan=\"2\" valign=\"top\">2018</th>\n",
       "      <th>28</th>\n",
       "      <td>8</td>\n",
       "    </tr>\n",
       "    <tr>\n",
       "      <th>29</th>\n",
       "      <td>15</td>\n",
       "    </tr>\n",
       "    <tr>\n",
       "      <th rowspan=\"2\" valign=\"top\">2020</th>\n",
       "      <th>21</th>\n",
       "      <td>2</td>\n",
       "    </tr>\n",
       "    <tr>\n",
       "      <th>22</th>\n",
       "      <td>20</td>\n",
       "    </tr>\n",
       "    <tr>\n",
       "      <th rowspan=\"2\" valign=\"top\">2022</th>\n",
       "      <th>13</th>\n",
       "      <td>6</td>\n",
       "    </tr>\n",
       "    <tr>\n",
       "      <th>14</th>\n",
       "      <td>18</td>\n",
       "    </tr>\n",
       "  </tbody>\n",
       "</table>\n",
       "</div>"
      ],
      "text/plain": [
       "           num_authors\n",
       "year week             \n",
       "2016 35              2\n",
       "     36             18\n",
       "2018 28              8\n",
       "     29             15\n",
       "2020 21              2\n",
       "     22             20\n",
       "2022 13              6\n",
       "     14             18"
      ]
     },
     "execution_count": 17,
     "metadata": {},
     "output_type": "execute_result"
    }
   ],
   "source": [
    "# mapping week number to dataframe\n",
    "df_submissions['week'] = pd.Series([date.isocalendar()[1] for date in df_submissions.date])\n",
    "df_submissions['year'] = pd.Series([date.isocalendar()[0] for date in df_submissions.date])\n",
    "\n",
    "# create and show authors per week as a dataframe\n",
    "author_week = pd.DataFrame(df_submissions.groupby(by=['year', 'week']).author.unique().apply(lambda x: x.__len__()))\n",
    "author_week.rename(columns={'author':'num_authors'}, inplace=True)\n",
    "\n",
    "author_week"
   ]
  },
  {
   "cell_type": "code",
   "execution_count": 18,
   "id": "44df144c",
   "metadata": {},
   "outputs": [
    {
     "data": {
      "image/png": "[encoded data removed]",
      "text/plain": [
       "<Figure size 432x288 with 1 Axes>"
      ]
     },
     "metadata": {
      "needs_background": "light"
     },
     "output_type": "display_data"
    }
   ],
   "source": [
    "# plot authors per week\n",
    "author_week.plot()\n",
    "plt.ylabel('number of authors')\n",
    "plt.xticks(rotation=90)\n",
    "plt.show()"
   ]
  },
  {
   "cell_type": "code",
   "execution_count": 19,
   "id": "10e15927",
   "metadata": {},
   "outputs": [
    {
     "data": {
      "text/html": [
       "<div>\n",
       "<style scoped>\n",
       "    .dataframe tbody tr th:only-of-type {\n",
       "        vertical-align: middle;\n",
       "    }\n",
       "\n",
       "    .dataframe tbody tr th {\n",
       "        vertical-align: top;\n",
       "    }\n",
       "\n",
       "    .dataframe thead th {\n",
       "        text-align: right;\n",
       "    }\n",
       "</style>\n",
       "<table border=\"1\" class=\"dataframe\">\n",
       "  <thead>\n",
       "    <tr style=\"text-align: right;\">\n",
       "      <th></th>\n",
       "      <th>id</th>\n",
       "      <th>author</th>\n",
       "      <th>title</th>\n",
       "      <th>selftext</th>\n",
       "      <th>score</th>\n",
       "      <th>subreddit</th>\n",
       "      <th>num_comments</th>\n",
       "      <th>all_awardings</th>\n",
       "      <th>awarders</th>\n",
       "      <th>total_awards_received</th>\n",
       "      <th>date</th>\n",
       "      <th>week</th>\n",
       "      <th>year</th>\n",
       "    </tr>\n",
       "  </thead>\n",
       "  <tbody>\n",
       "  </tbody>\n",
       "</table>\n",
       "</div>"
      ],
      "text/plain": [
       "Empty DataFrame\n",
       "Columns: [id, author, title, selftext, score, subreddit, num_comments, all_awardings, awarders, total_awards_received, date, week, year]\n",
       "Index: []"
      ]
     },
     "execution_count": 19,
     "metadata": {},
     "output_type": "execute_result"
    }
   ],
   "source": [
    "# awards\n",
    "condition = np.logical_and(-df_submissions['total_awards_received'].isnull(), df_submissions['total_awards_received'] != 0)\n",
    "df_submissions[condition]"
   ]
  },
  {
   "cell_type": "markdown",
   "id": "e48acb41",
   "metadata": {},
   "source": [
    "### 2.2) Comments"
   ]
  },
  {
   "cell_type": "code",
   "execution_count": 20,
   "id": "dc573a6e",
   "metadata": {},
   "outputs": [
    {
     "data": {
      "image/png": "[encoded data removed]",
      "text/plain": [
       "<Figure size 432x288 with 1 Axes>"
      ]
     },
     "metadata": {
      "needs_background": "light"
     },
     "output_type": "display_data"
    }
   ],
   "source": [
    "# plotting number of submission per day\n",
    "df_comments.groupby(by='date').size().plot()\n",
    "plt.xticks(rotation=90)\n",
    "plt.ylabel('number of submissions')\n",
    "plt.show()"
   ]
  },
  {
   "cell_type": "code",
   "execution_count": 21,
   "id": "b227a06a",
   "metadata": {},
   "outputs": [
    {
     "name": "stdout",
     "output_type": "stream",
     "text": [
      "Total number of submissions retrieved: 1526\n",
      "Number of unique authors in retrieved submissions: 652\n"
     ]
    }
   ],
   "source": [
    "print(f\"Total number of submissions retrieved: {df_comments.__len__()}\")\n",
    "print(f\"Number of unique authors in retrieved submissions: {df_comments.author.unique().__len__()}\")"
   ]
  },
  {
   "cell_type": "code",
   "execution_count": 22,
   "id": "acf42bb0",
   "metadata": {},
   "outputs": [
    {
     "data": {
      "text/html": [
       "<div>\n",
       "<style scoped>\n",
       "    .dataframe tbody tr th:only-of-type {\n",
       "        vertical-align: middle;\n",
       "    }\n",
       "\n",
       "    .dataframe tbody tr th {\n",
       "        vertical-align: top;\n",
       "    }\n",
       "\n",
       "    .dataframe thead th {\n",
       "        text-align: right;\n",
       "    }\n",
       "</style>\n",
       "<table border=\"1\" class=\"dataframe\">\n",
       "  <thead>\n",
       "    <tr style=\"text-align: right;\">\n",
       "      <th></th>\n",
       "      <th></th>\n",
       "      <th>num_authors</th>\n",
       "    </tr>\n",
       "    <tr>\n",
       "      <th>year</th>\n",
       "      <th>week</th>\n",
       "      <th></th>\n",
       "    </tr>\n",
       "  </thead>\n",
       "  <tbody>\n",
       "    <tr>\n",
       "      <th rowspan=\"2\" valign=\"top\">2016</th>\n",
       "      <th>36</th>\n",
       "      <td>41</td>\n",
       "    </tr>\n",
       "    <tr>\n",
       "      <th>37</th>\n",
       "      <td>1</td>\n",
       "    </tr>\n",
       "    <tr>\n",
       "      <th rowspan=\"5\" valign=\"top\">2018</th>\n",
       "      <th>28</th>\n",
       "      <td>179</td>\n",
       "    </tr>\n",
       "    <tr>\n",
       "      <th>29</th>\n",
       "      <td>161</td>\n",
       "    </tr>\n",
       "    <tr>\n",
       "      <th>30</th>\n",
       "      <td>4</td>\n",
       "    </tr>\n",
       "    <tr>\n",
       "      <th>31</th>\n",
       "      <td>9</td>\n",
       "    </tr>\n",
       "    <tr>\n",
       "      <th>32</th>\n",
       "      <td>4</td>\n",
       "    </tr>\n",
       "    <tr>\n",
       "      <th rowspan=\"3\" valign=\"top\">2020</th>\n",
       "      <th>21</th>\n",
       "      <td>56</td>\n",
       "    </tr>\n",
       "    <tr>\n",
       "      <th>22</th>\n",
       "      <td>182</td>\n",
       "    </tr>\n",
       "    <tr>\n",
       "      <th>24</th>\n",
       "      <td>4</td>\n",
       "    </tr>\n",
       "    <tr>\n",
       "      <th rowspan=\"2\" valign=\"top\">2022</th>\n",
       "      <th>13</th>\n",
       "      <td>11</td>\n",
       "    </tr>\n",
       "    <tr>\n",
       "      <th>14</th>\n",
       "      <td>38</td>\n",
       "    </tr>\n",
       "  </tbody>\n",
       "</table>\n",
       "</div>"
      ],
      "text/plain": [
       "           num_authors\n",
       "year week             \n",
       "2016 36             41\n",
       "     37              1\n",
       "2018 28            179\n",
       "     29            161\n",
       "     30              4\n",
       "     31              9\n",
       "     32              4\n",
       "2020 21             56\n",
       "     22            182\n",
       "     24              4\n",
       "2022 13             11\n",
       "     14             38"
      ]
     },
     "execution_count": 22,
     "metadata": {},
     "output_type": "execute_result"
    }
   ],
   "source": [
    "# mapping week number to dataframe\n",
    "df_comments['week'] = pd.Series([date.isocalendar()[1] for date in df_comments.date])\n",
    "df_comments['year'] = pd.Series([date.isocalendar()[0] for date in df_comments.date])\n",
    "\n",
    "# create and show authors per week as a dataframe\n",
    "author_week = pd.DataFrame(df_comments.groupby(by=['year', 'week']).author.unique().apply(lambda x: x.__len__()))\n",
    "author_week.rename(columns={'author':'num_authors'}, inplace=True)\n",
    "\n",
    "author_week"
   ]
  },
  {
   "cell_type": "code",
   "execution_count": 23,
   "id": "0cdf3a76",
   "metadata": {},
   "outputs": [
    {
     "data": {
      "image/png": "[encoded data removed]",
      "text/plain": [
       "<Figure size 432x288 with 1 Axes>"
      ]
     },
     "metadata": {
      "needs_background": "light"
     },
     "output_type": "display_data"
    }
   ],
   "source": [
    "# plot authors per week\n",
    "author_week.plot()\n",
    "plt.ylabel('number of authors')\n",
    "plt.xticks(rotation=90)\n",
    "plt.show()"
   ]
  },
  {
   "cell_type": "code",
   "execution_count": null,
   "id": "07af9590",
   "metadata": {},
   "outputs": [],
   "source": []
  },
  {
   "cell_type": "code",
   "execution_count": 104,
   "id": "b75baac5",
   "metadata": {},
   "outputs": [
    {
     "data": {
      "text/html": [
       "<div>\n",
       "<style scoped>\n",
       "    .dataframe tbody tr th:only-of-type {\n",
       "        vertical-align: middle;\n",
       "    }\n",
       "\n",
       "    .dataframe tbody tr th {\n",
       "        vertical-align: top;\n",
       "    }\n",
       "\n",
       "    .dataframe thead th {\n",
       "        text-align: right;\n",
       "    }\n",
       "</style>\n",
       "<table border=\"1\" class=\"dataframe\">\n",
       "  <thead>\n",
       "    <tr style=\"text-align: right;\">\n",
       "      <th></th>\n",
       "      <th>id</th>\n",
       "      <th>submission_id</th>\n",
       "      <th>score</th>\n",
       "      <th>author</th>\n",
       "      <th>parent_id</th>\n",
       "      <th>text</th>\n",
       "      <th>controversiality</th>\n",
       "      <th>total_awards_received</th>\n",
       "      <th>all_awardings</th>\n",
       "      <th>associated_award</th>\n",
       "      <th>date</th>\n",
       "      <th>week</th>\n",
       "      <th>year</th>\n",
       "    </tr>\n",
       "  </thead>\n",
       "  <tbody>\n",
       "  </tbody>\n",
       "</table>\n",
       "</div>"
      ],
      "text/plain": [
       "Empty DataFrame\n",
       "Columns: [id, submission_id, score, author, parent_id, text, controversiality, total_awards_received, all_awardings, associated_award, date, week, year]\n",
       "Index: []"
      ]
     },
     "execution_count": 104,
     "metadata": {},
     "output_type": "execute_result"
    }
   ],
   "source": [
    "# awards\n",
    "condition = np.logical_and(-df_comments['total_awards_received'].isnull(), df_comments['total_awards_received'] != 0)\n",
    "df_comments[condition]"
   ]
  }
 ],
 "metadata": {
  "kernelspec": {
   "display_name": "Python 3",
   "language": "python",
   "name": "python3"
  },
  "language_info": {
   "codemirror_mode": {
    "name": "ipython",
    "version": 3
   },
   "file_extension": ".py",
   "mimetype": "text/x-python",
   "name": "python",
   "nbconvert_exporter": "python",
   "pygments_lexer": "ipython3",
   "version": "3.8.7"
  }
 },
 "nbformat": 4,
 "nbformat_minor": 5
}
