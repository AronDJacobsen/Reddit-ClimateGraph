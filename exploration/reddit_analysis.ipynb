{
 "cells": [
  {
   "cell_type": "code",
   "execution_count": null,
   "id": "2ad50b24",
   "metadata": {},
   "outputs": [],
   "source": []
  },
  {
   "cell_type": "code",
   "execution_count": null,
   "id": "674b52d2",
   "metadata": {},
   "outputs": [],
   "source": [
    "# Data directory\n",
    "DATA_DIR = Path(os.getcwd()).parent / 'data'\n",
    "\n",
    "# load data\n",
    "comments = pd.read_pickle(DATA_DIR / 'reddit_comments.bz2')\n",
    "submissions = pd.read_pickle(DATA_DIR / 'reddit_submissions.bz2')"
   ]
  },
  {
   "cell_type": "code",
   "execution_count": 1,
   "id": "328bb108",
   "metadata": {},
   "outputs": [],
   "source": [
    "# CHECK WHETHER THE ['deleted'] USERS ARE MAINLY FROM PRO- OR ANTI-CLIMATE CHANGE."
   ]
  },
  {
   "cell_type": "code",
   "execution_count": null,
   "id": "fcbe9e6c",
   "metadata": {},
   "outputs": [],
   "source": []
  },
  {
   "cell_type": "code",
   "execution_count": null,
   "id": "3740a7cd",
   "metadata": {},
   "outputs": [],
   "source": [
    "# LIFESPAN PLOT FROM WEEK2!"
   ]
  },
  {
   "cell_type": "code",
   "execution_count": null,
   "id": "52833974",
   "metadata": {},
   "outputs": [],
   "source": [
    "#TODO: Lifespan plot (matrix) from week2"
   ]
  },
  {
   "cell_type": "code",
   "execution_count": 2,
   "id": "f433ae84",
   "metadata": {},
   "outputs": [
    {
     "name": "stdout",
     "output_type": "stream",
     "text": [
      "/bin/bash: -c: line 0: syntax error near unexpected token `attachment:image.png'\r\n",
      "/bin/bash: -c: line 0: `[image.png](attachment:image.png)'\r\n"
     ]
    }
   ],
   "source": [
    "![image.png](attachment:image.png)"
   ]
  },
  {
   "cell_type": "code",
   "execution_count": null,
   "id": "0984db8d",
   "metadata": {},
   "outputs": [],
   "source": []
  }
 ],
 "metadata": {
  "kernelspec": {
   "display_name": "Python 3",
   "language": "python",
   "name": "python3"
  },
  "language_info": {
   "codemirror_mode": {
    "name": "ipython",
    "version": 3
   },
   "file_extension": ".py",
   "mimetype": "text/x-python",
   "name": "python",
   "nbconvert_exporter": "python",
   "pygments_lexer": "ipython3",
   "version": "3.8.7"
  }
 },
 "nbformat": 4,
 "nbformat_minor": 5
}
