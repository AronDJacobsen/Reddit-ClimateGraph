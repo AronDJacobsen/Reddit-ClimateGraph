{
 "cells": [
  {
   "cell_type": "code",
   "execution_count": null,
   "id": "4df2296c",
   "metadata": {},
   "outputs": [],
   "source": []
  },
  {
   "cell_type": "markdown",
   "id": "262c64f3",
   "metadata": {},
   "source": [
    "An explainer Notebook. The Notebook should contain all the behind the scenes stuff, details on the dataset, why you've selected this particular dataset, explanations of your choices regarding network analysis, etc. You should link to the notebook from the site. The idea is that you can create much more complex, fun and interactive analysis (and visualizations) on line. So the website is a way for you to present your work in a way that everyone can understand it ... including dynamic visualizations, interactive analysis, etc, etc ... that would not work on a piece of paper."
   ]
  },
  {
   "cell_type": "markdown",
   "id": "fdfcf5bd",
   "metadata": {},
   "source": [
    "The notebook should contain your analysis and code. Please structure it into the following 4 sections\n",
    "\n",
    "1) Motivation\n",
    "- What is your dataset?\n",
    "- Why did you choose this/these particular dataset(s)?\n",
    "- What was your goal for the end user's experience?\n",
    "\n",
    "2) Basic stats. Let's understand the dataset better\n",
    "- Write about your choices in data cleaning and preprocessing\n",
    "- Write a short section that discusses the dataset stats (here you can recycle the work you did for Project Assignment A)\n",
    "\n",
    "3) Tools, theory and analysis. Describe the process of theory to insight\n",
    "- Talk about how you've worked with text, including regular expressions, unicode, etc.\n",
    "- Describe which network science tools and data analysis strategies you've used, how those network science measures work, and why the tools you've chosen are right for the problem you're solving.\n",
    "- How did you use the tools to understand your dataset?\n",
    "\n",
    "4) Discussion. Think critically about your creation\n",
    "- What went well?,\n",
    "- What is still missing? What could be improved?, Why?\n",
    "\n",
    "\n",
    "Improved: the classifier. As was seen in preliminary analyses, the classifier generally ...\n",
    "\n",
    "Also: mapping news as neutral could have been more thought-through. I.e. by disregarding it..."
   ]
  },
  {
   "cell_type": "code",
   "execution_count": null,
   "id": "d68a5e5c",
   "metadata": {},
   "outputs": [],
   "source": []
  },
  {
   "cell_type": "code",
   "execution_count": null,
   "id": "13197de8",
   "metadata": {},
   "outputs": [],
   "source": []
  },
  {
   "cell_type": "code",
   "execution_count": null,
   "id": "15aba565",
   "metadata": {},
   "outputs": [],
   "source": []
  },
  {
   "cell_type": "code",
   "execution_count": null,
   "id": "1be45cd5",
   "metadata": {},
   "outputs": [],
   "source": []
  },
  {
   "cell_type": "markdown",
   "id": "baeed2df",
   "metadata": {},
   "source": [
    "We restrict the analyses in RQ's to the year of 2020.\n",
    "\n",
    "However, we investigate whether the general ClimateGraph network evolves over time and use the findings to suggest digging into this trend for future researchers. "
   ]
  },
  {
   "cell_type": "code",
   "execution_count": null,
   "id": "252fb934",
   "metadata": {},
   "outputs": [],
   "source": []
  }
 ],
 "metadata": {
  "kernelspec": {
   "display_name": "Python 3 (ipykernel)",
   "language": "python",
   "name": "python3"
  },
  "language_info": {
   "codemirror_mode": {
    "name": "ipython",
    "version": 3
   },
   "file_extension": ".py",
   "mimetype": "text/x-python",
   "name": "python",
   "nbconvert_exporter": "python",
   "pygments_lexer": "ipython3",
   "version": "3.8.13"
  }
 },
 "nbformat": 4,
 "nbformat_minor": 5
}
